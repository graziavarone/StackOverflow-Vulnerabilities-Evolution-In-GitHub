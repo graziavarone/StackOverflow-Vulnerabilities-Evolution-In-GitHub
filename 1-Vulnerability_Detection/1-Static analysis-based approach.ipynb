{
 "cells": [
  {
   "cell_type": "code",
   "execution_count": 1,
   "metadata": {},
   "outputs": [],
   "source": [
    "import pandas as pd\n",
    "from tqdm.auto import tqdm\n",
    "from pycparser import parse_file\n",
    "from pycparser.plyparser import ParseError\n",
    "import numpy as np\n",
    "import os\n",
    "import clang.cindex\n",
    "import subprocess"
   ]
  },
  {
   "cell_type": "code",
   "execution_count": 3,
   "metadata": {},
   "outputs": [],
   "source": [
    "codes = pd.read_csv('../Datasets Code Snippets/post_with_only_code_snippets_final.csv')"
   ]
  },
  {
   "cell_type": "code",
   "execution_count": 6,
   "metadata": {},
   "outputs": [
    {
     "data": {
      "text/html": [
       "<div>\n",
       "<style scoped>\n",
       "    .dataframe tbody tr th:only-of-type {\n",
       "        vertical-align: middle;\n",
       "    }\n",
       "\n",
       "    .dataframe tbody tr th {\n",
       "        vertical-align: top;\n",
       "    }\n",
       "\n",
       "    .dataframe thead th {\n",
       "        text-align: right;\n",
       "    }\n",
       "</style>\n",
       "<table border=\"1\" class=\"dataframe\">\n",
       "  <thead>\n",
       "    <tr style=\"text-align: right;\">\n",
       "      <th></th>\n",
       "      <th>id</th>\n",
       "      <th>code</th>\n",
       "    </tr>\n",
       "  </thead>\n",
       "  <tbody>\n",
       "    <tr>\n",
       "      <th>0</th>\n",
       "      <td>37637877</td>\n",
       "      <td>void closeBuySell(int buyTicket){\\n   double b...</td>\n",
       "    </tr>\n",
       "    <tr>\n",
       "      <th>1</th>\n",
       "      <td>57596800</td>\n",
       "      <td>#include &lt;stdio.h&gt;\\n\\nvoid sum(int *, int *, i...</td>\n",
       "    </tr>\n",
       "    <tr>\n",
       "      <th>2</th>\n",
       "      <td>22667586</td>\n",
       "      <td>#include \"buraco/game/board/model/KingChatFilt...</td>\n",
       "    </tr>\n",
       "    <tr>\n",
       "      <th>3</th>\n",
       "      <td>22667586</td>\n",
       "      <td>#include \"buraco\\game/board/model\\CardGroup.h\"...</td>\n",
       "    </tr>\n",
       "    <tr>\n",
       "      <th>4</th>\n",
       "      <td>55014685</td>\n",
       "      <td>#include &lt;stdlib.h&gt; /* EXIT malloc free */\\n#i...</td>\n",
       "    </tr>\n",
       "    <tr>\n",
       "      <th>...</th>\n",
       "      <td>...</td>\n",
       "      <td>...</td>\n",
       "    </tr>\n",
       "    <tr>\n",
       "      <th>452666</th>\n",
       "      <td>64735134</td>\n",
       "      <td>template &lt;class T, class ...Ts&gt;\\nvoid printA(T...</td>\n",
       "    </tr>\n",
       "    <tr>\n",
       "      <th>452667</th>\n",
       "      <td>65106538</td>\n",
       "      <td>#include &lt;iostream&gt;\\nusing namespace std;\\n\\nv...</td>\n",
       "    </tr>\n",
       "    <tr>\n",
       "      <th>452668</th>\n",
       "      <td>25117355</td>\n",
       "      <td>#include &lt;iostream&gt;\\nusing namespace std;\\n\\ni...</td>\n",
       "    </tr>\n",
       "    <tr>\n",
       "      <th>452669</th>\n",
       "      <td>55782153</td>\n",
       "      <td>#include&lt;stdio.h&gt;\\n#include &lt;limits.h&gt;\\n#inclu...</td>\n",
       "    </tr>\n",
       "    <tr>\n",
       "      <th>452670</th>\n",
       "      <td>25736927</td>\n",
       "      <td>extern \"C\" JNIEXPORT jint JNICALL  Java_com_em...</td>\n",
       "    </tr>\n",
       "  </tbody>\n",
       "</table>\n",
       "<p>452671 rows × 2 columns</p>\n",
       "</div>"
      ],
      "text/plain": [
       "              id                                               code\n",
       "0       37637877  void closeBuySell(int buyTicket){\\n   double b...\n",
       "1       57596800  #include <stdio.h>\\n\\nvoid sum(int *, int *, i...\n",
       "2       22667586  #include \"buraco/game/board/model/KingChatFilt...\n",
       "3       22667586  #include \"buraco\\game/board/model\\CardGroup.h\"...\n",
       "4       55014685  #include <stdlib.h> /* EXIT malloc free */\\n#i...\n",
       "...          ...                                                ...\n",
       "452666  64735134  template <class T, class ...Ts>\\nvoid printA(T...\n",
       "452667  65106538  #include <iostream>\\nusing namespace std;\\n\\nv...\n",
       "452668  25117355  #include <iostream>\\nusing namespace std;\\n\\ni...\n",
       "452669  55782153  #include<stdio.h>\\n#include <limits.h>\\n#inclu...\n",
       "452670  25736927  extern \"C\" JNIEXPORT jint JNICALL  Java_com_em...\n",
       "\n",
       "[452671 rows x 2 columns]"
      ]
     },
     "execution_count": 6,
     "metadata": {},
     "output_type": "execute_result"
    }
   ],
   "source": [
    "codes"
   ]
  },
  {
   "cell_type": "markdown",
   "metadata": {},
   "source": [
    "# Filter codes by keywords"
   ]
  },
  {
   "cell_type": "code",
   "execution_count": 5,
   "metadata": {},
   "outputs": [],
   "source": [
    "words_to_search = ['strcpy', 'strncpy', 'strcat', 'strncat', 'system', 'memcpy', 'memset', 'malloc', 'gets', 'vfork', \n",
    "                   'realloc', 'pthread_mutex_lock', 'free', 'chroot', 'strlen', 'vsprintf', 'sprintf', 'scanf', 'fscanf', \n",
    "                   'sscanf', 'vscanf', 'vsscanf', 'vfscanf','snprintf', 'atoi', 'strtok', 'strcmp', 'strncmp', 'strcasecmp',\n",
    "                    'strncasecmp', 'memcmp', 'signal', 'va_arg', 'vulnerab', 'fault', 'defect', 'sanit', 'mistake', 'flaw', \n",
    "                   'bug', 'infinite', 'loop', 'secur', 'overflow', 'error', 'remote', 'mitigat', 'realloc', 'heap', \n",
    "                   'privilege', 'underflow', 'attack', 'DoS', 'denial-of-service', 'initiali', 'xss', 'leak', 'patch',\n",
    "                    'authori', 'corruption', 'crash', 'memory', 'null', 'injection', 'out-of-bounds', 'use-after-free', \n",
    "                   'dereferenc', 'buffer', 'hack', 'segment', 'authentication', 'exploit', 'incorrect', 'vulnerab', 'harm', \n",
    "                   'undefine', 'unpredict', 'unsafe', 'secur', 'malicious', 'dangerous', 'critical', 'bad', 'unprivileged', \n",
    "                   'negative', 'stable', 'invalid', 'flaw', 'hack', 'fix', 'change', 'modify', 'exploit', 'mitigat', 'leak', \n",
    "                   'realloc', 'invoke', 'inject', 'ensure', 'reject', 'initiali', 'fail', 'authori', 'update', 'attack', \n",
    "                   'trigger', 'lock', 'corrupt', 'crash', 'prevent', 'avoid', 'access', 'cause', 'overflow', 'terminat'              \n",
    "                  ]"
   ]
  },
  {
   "cell_type": "code",
   "execution_count": 14,
   "metadata": {},
   "outputs": [
    {
     "data": {
      "application/vnd.jupyter.widget-view+json": {
       "model_id": "11f132ae69854ecb97ceba2da889dcea",
       "version_major": 2,
       "version_minor": 0
      },
      "text/plain": [
       "HBox(children=(FloatProgress(value=0.0, max=115.0), HTML(value='')))"
      ]
     },
     "metadata": {},
     "output_type": "display_data"
    },
    {
     "name": "stdout",
     "output_type": "stream",
     "text": [
      "9869  codes contain word  strcpy\n",
      "1907  codes contain word  strncpy\n",
      "2749  codes contain word  strcat\n",
      "281  codes contain word  strncat\n",
      "13871  codes contain word  system\n",
      "5841  codes contain word  memcpy\n",
      "6992  codes contain word  memset\n",
      "30558  codes contain word  malloc\n",
      "14012  codes contain word  gets\n",
      "43  codes contain word  vfork\n",
      "3766  codes contain word  realloc\n",
      "1249  codes contain word  pthread_mutex_lock\n",
      "22123  codes contain word  free\n",
      "7  codes contain word  chroot\n",
      "16676  codes contain word  strlen\n",
      "117  codes contain word  vsprintf\n",
      "4792  codes contain word  sprintf\n",
      "32076  codes contain word  scanf\n",
      "4363  codes contain word  fscanf\n",
      "2475  codes contain word  sscanf\n",
      "1  codes contain word  vscanf\n",
      "7  codes contain word  vsscanf\n",
      "15  codes contain word  vfscanf\n",
      "1767  codes contain word  snprintf\n",
      "5058  codes contain word  atoi\n",
      "3465  codes contain word  strtok\n",
      "7427  codes contain word  strcmp\n",
      "818  codes contain word  strncmp\n",
      "184  codes contain word  strcasecmp\n",
      "31  codes contain word  strncasecmp\n",
      "492  codes contain word  memcmp\n",
      "6868  codes contain word  signal\n",
      "444  codes contain word  va_arg\n",
      "37  codes contain word  vulnerab\n",
      "21233  codes contain word  fault\n",
      "57  codes contain word  defect\n",
      "203  codes contain word  sanit\n",
      "135  codes contain word  mistake\n",
      "23  codes contain word  flaw\n",
      "9410  codes contain word  bug\n",
      "553  codes contain word  infinite\n",
      "15994  codes contain word  loop\n",
      "601  codes contain word  secur\n",
      "2566  codes contain word  overflow\n",
      "37702  codes contain word  error\n",
      "865  codes contain word  remote\n",
      "9  codes contain word  mitigat\n",
      "3766  codes contain word  realloc\n",
      "1509  codes contain word  heap\n",
      "115  codes contain word  privilege\n",
      "234  codes contain word  underflow\n",
      "295  codes contain word  attack\n",
      "492  codes contain word  DoS\n",
      "0  codes contain word  denial-of-service\n",
      "13341  codes contain word  initiali\n",
      "5  codes contain word  xss\n",
      "645  codes contain word  leak\n",
      "2185  codes contain word  patch\n",
      "121  codes contain word  authori\n",
      "70  codes contain word  corruption\n",
      "965  codes contain word  crash\n",
      "15756  codes contain word  memory\n",
      "15301  codes contain word  null\n",
      "45  codes contain word  injection\n",
      "27  codes contain word  out-of-bounds\n",
      "8  codes contain word  use-after-free\n",
      "584  codes contain word  dereferenc\n",
      "20231  codes contain word  buffer\n",
      "324  codes contain word  hack\n",
      "1497  codes contain word  segment\n",
      "135  codes contain word  authentication\n",
      "37  codes contain word  exploit\n",
      "680  codes contain word  incorrect\n",
      "37  codes contain word  vulnerab\n",
      "136  codes contain word  harm\n",
      "1119  codes contain word  undefine\n",
      "14  codes contain word  unpredict\n",
      "234  codes contain word  unsafe\n",
      "601  codes contain word  secur\n",
      "8  codes contain word  malicious\n",
      "73  codes contain word  dangerous\n",
      "685  codes contain word  critical\n",
      "2368  codes contain word  bad\n",
      "3  codes contain word  unprivileged\n",
      "1673  codes contain word  negative\n",
      "304  codes contain word  stable\n",
      "4159  codes contain word  invalid\n",
      "23  codes contain word  flaw\n",
      "324  codes contain word  hack\n",
      "5113  codes contain word  fix\n",
      "8294  codes contain word  change\n",
      "1440  codes contain word  modify\n",
      "37  codes contain word  exploit\n",
      "9  codes contain word  mitigat\n",
      "645  codes contain word  leak\n",
      "3766  codes contain word  realloc\n",
      "1583  codes contain word  invoke\n",
      "212  codes contain word  inject\n",
      "1027  codes contain word  ensure\n",
      "210  codes contain word  reject\n",
      "13341  codes contain word  initiali\n",
      "16117  codes contain word  fail\n",
      "121  codes contain word  authori\n",
      "6343  codes contain word  update\n",
      "295  codes contain word  attack\n",
      "984  codes contain word  trigger\n",
      "20852  codes contain word  lock\n",
      "221  codes contain word  corrupt\n",
      "965  codes contain word  crash\n",
      "1030  codes contain word  prevent\n",
      "1969  codes contain word  avoid\n",
      "4997  codes contain word  access\n",
      "5624  codes contain word  cause\n",
      "2566  codes contain word  overflow\n",
      "4178  codes contain word  terminat\n",
      "\n"
     ]
    }
   ],
   "source": [
    "dict_keywords = dict()\n",
    "idx = 0\n",
    "\n",
    "for word in tqdm(words_to_search):\n",
    "    dict_word= dict()\n",
    "    for index in range(codes.shape[0]):\n",
    "        if word in codes['code'][index]:\n",
    "            dict_word[idx]={\"id\": codes['id'][index], \"code\": codes['code'][index]}\n",
    "            idx=idx+1\n",
    "    \n",
    "    print(len(dict_word), \" codes contain word \",word)\n",
    "    dict_keywords = {**dict_keywords, **dict_word}"
   ]
  },
  {
   "cell_type": "code",
   "execution_count": 15,
   "metadata": {},
   "outputs": [
    {
     "data": {
      "text/plain": [
       "481800"
      ]
     },
     "execution_count": 15,
     "metadata": {},
     "output_type": "execute_result"
    }
   ],
   "source": [
    "len(dict_keywords)"
   ]
  },
  {
   "cell_type": "code",
   "execution_count": 41,
   "metadata": {},
   "outputs": [],
   "source": [
    "df_dict_keywords = pd.DataFrame.from_dict(dict_keywords, orient='index')"
   ]
  },
  {
   "cell_type": "code",
   "execution_count": 42,
   "metadata": {},
   "outputs": [],
   "source": [
    "df_dict_keywords = df_dict_keywords.drop_duplicates().reset_index(drop=True)"
   ]
  },
  {
   "cell_type": "code",
   "execution_count": 43,
   "metadata": {},
   "outputs": [
    {
     "data": {
      "text/html": [
       "<div>\n",
       "<style scoped>\n",
       "    .dataframe tbody tr th:only-of-type {\n",
       "        vertical-align: middle;\n",
       "    }\n",
       "\n",
       "    .dataframe tbody tr th {\n",
       "        vertical-align: top;\n",
       "    }\n",
       "\n",
       "    .dataframe thead th {\n",
       "        text-align: right;\n",
       "    }\n",
       "</style>\n",
       "<table border=\"1\" class=\"dataframe\">\n",
       "  <thead>\n",
       "    <tr style=\"text-align: right;\">\n",
       "      <th></th>\n",
       "      <th>id</th>\n",
       "      <th>code</th>\n",
       "    </tr>\n",
       "  </thead>\n",
       "  <tbody>\n",
       "    <tr>\n",
       "      <th>0</th>\n",
       "      <td>30877241</td>\n",
       "      <td>void list_file(char* directory) {\\n  DIR *d;\\n...</td>\n",
       "    </tr>\n",
       "    <tr>\n",
       "      <th>1</th>\n",
       "      <td>40233070</td>\n",
       "      <td>/*****   PLEASE DO NOT EVER DO THIS IN REAL CO...</td>\n",
       "    </tr>\n",
       "    <tr>\n",
       "      <th>2</th>\n",
       "      <td>29652839</td>\n",
       "      <td>#include &lt;Windows.h&gt;\\n#include &lt;string&gt;\\n\\nboo...</td>\n",
       "    </tr>\n",
       "    <tr>\n",
       "      <th>3</th>\n",
       "      <td>55118246</td>\n",
       "      <td>#include &lt;cstdlib&gt;\\n#include &lt;cstring&gt;\\n#inclu...</td>\n",
       "    </tr>\n",
       "    <tr>\n",
       "      <th>4</th>\n",
       "      <td>53767640</td>\n",
       "      <td>void dir_details(int socket) {\\n    //Set up a...</td>\n",
       "    </tr>\n",
       "    <tr>\n",
       "      <th>...</th>\n",
       "      <td>...</td>\n",
       "      <td>...</td>\n",
       "    </tr>\n",
       "    <tr>\n",
       "      <th>219569</th>\n",
       "      <td>29433869</td>\n",
       "      <td>void MainWindow::Quit()\\n{\\n    close();\\n    ...</td>\n",
       "    </tr>\n",
       "    <tr>\n",
       "      <th>219570</th>\n",
       "      <td>49517511</td>\n",
       "      <td>#include &lt;iostream&gt;\\n#include &lt;string&gt;\\n#inclu...</td>\n",
       "    </tr>\n",
       "    <tr>\n",
       "      <th>219571</th>\n",
       "      <td>22337006</td>\n",
       "      <td>#include &lt;iostream&gt;\\n#include&lt;stdio.h&gt;\\n#inclu...</td>\n",
       "    </tr>\n",
       "    <tr>\n",
       "      <th>219572</th>\n",
       "      <td>48448538</td>\n",
       "      <td>#include \"stdafx.h\"\\n#include &lt; iostream&gt;\\n#in...</td>\n",
       "    </tr>\n",
       "    <tr>\n",
       "      <th>219573</th>\n",
       "      <td>43381034</td>\n",
       "      <td>template &lt;typename T, size_t val = sizeof(T)&gt;\\...</td>\n",
       "    </tr>\n",
       "  </tbody>\n",
       "</table>\n",
       "<p>219574 rows × 2 columns</p>\n",
       "</div>"
      ],
      "text/plain": [
       "              id                                               code\n",
       "0       30877241  void list_file(char* directory) {\\n  DIR *d;\\n...\n",
       "1       40233070  /*****   PLEASE DO NOT EVER DO THIS IN REAL CO...\n",
       "2       29652839  #include <Windows.h>\\n#include <string>\\n\\nboo...\n",
       "3       55118246  #include <cstdlib>\\n#include <cstring>\\n#inclu...\n",
       "4       53767640  void dir_details(int socket) {\\n    //Set up a...\n",
       "...          ...                                                ...\n",
       "219569  29433869  void MainWindow::Quit()\\n{\\n    close();\\n    ...\n",
       "219570  49517511  #include <iostream>\\n#include <string>\\n#inclu...\n",
       "219571  22337006  #include <iostream>\\n#include<stdio.h>\\n#inclu...\n",
       "219572  48448538  #include \"stdafx.h\"\\n#include < iostream>\\n#in...\n",
       "219573  43381034  template <typename T, size_t val = sizeof(T)>\\...\n",
       "\n",
       "[219574 rows x 2 columns]"
      ]
     },
     "execution_count": 43,
     "metadata": {},
     "output_type": "execute_result"
    }
   ],
   "source": [
    "df_dict_keywords"
   ]
  },
  {
   "cell_type": "code",
   "execution_count": 44,
   "metadata": {},
   "outputs": [],
   "source": [
    "df_dict_keywords.to_csv('../Datasets Code Snippets/code_snippets_static_analysis.csv', index=False)"
   ]
  },
  {
   "cell_type": "markdown",
   "metadata": {},
   "source": [
    "# Detect syntax errors"
   ]
  },
  {
   "cell_type": "code",
   "execution_count": 2,
   "metadata": {},
   "outputs": [],
   "source": [
    "df_dict_keywords = pd.read_csv('../Datasets Code Snippets/code_snippets_static_analysis.csv')"
   ]
  },
  {
   "cell_type": "code",
   "execution_count": 49,
   "metadata": {
    "scrolled": true
   },
   "outputs": [
    {
     "data": {
      "text/html": [
       "<div>\n",
       "<style scoped>\n",
       "    .dataframe tbody tr th:only-of-type {\n",
       "        vertical-align: middle;\n",
       "    }\n",
       "\n",
       "    .dataframe tbody tr th {\n",
       "        vertical-align: top;\n",
       "    }\n",
       "\n",
       "    .dataframe thead th {\n",
       "        text-align: right;\n",
       "    }\n",
       "</style>\n",
       "<table border=\"1\" class=\"dataframe\">\n",
       "  <thead>\n",
       "    <tr style=\"text-align: right;\">\n",
       "      <th></th>\n",
       "      <th>id</th>\n",
       "      <th>code</th>\n",
       "    </tr>\n",
       "  </thead>\n",
       "  <tbody>\n",
       "    <tr>\n",
       "      <th>0</th>\n",
       "      <td>30877241</td>\n",
       "      <td>void list_file(char* directory) {\\n  DIR *d;\\n...</td>\n",
       "    </tr>\n",
       "    <tr>\n",
       "      <th>1</th>\n",
       "      <td>40233070</td>\n",
       "      <td>/*****   PLEASE DO NOT EVER DO THIS IN REAL CO...</td>\n",
       "    </tr>\n",
       "    <tr>\n",
       "      <th>2</th>\n",
       "      <td>29652839</td>\n",
       "      <td>#include &lt;Windows.h&gt;\\n#include &lt;string&gt;\\n\\nboo...</td>\n",
       "    </tr>\n",
       "    <tr>\n",
       "      <th>3</th>\n",
       "      <td>55118246</td>\n",
       "      <td>#include &lt;cstdlib&gt;\\n#include &lt;cstring&gt;\\n#inclu...</td>\n",
       "    </tr>\n",
       "    <tr>\n",
       "      <th>4</th>\n",
       "      <td>53767640</td>\n",
       "      <td>void dir_details(int socket) {\\n    //Set up a...</td>\n",
       "    </tr>\n",
       "    <tr>\n",
       "      <th>...</th>\n",
       "      <td>...</td>\n",
       "      <td>...</td>\n",
       "    </tr>\n",
       "    <tr>\n",
       "      <th>219569</th>\n",
       "      <td>29433869</td>\n",
       "      <td>void MainWindow::Quit()\\n{\\n    close();\\n    ...</td>\n",
       "    </tr>\n",
       "    <tr>\n",
       "      <th>219570</th>\n",
       "      <td>49517511</td>\n",
       "      <td>#include &lt;iostream&gt;\\n#include &lt;string&gt;\\n#inclu...</td>\n",
       "    </tr>\n",
       "    <tr>\n",
       "      <th>219571</th>\n",
       "      <td>22337006</td>\n",
       "      <td>#include &lt;iostream&gt;\\n#include&lt;stdio.h&gt;\\n#inclu...</td>\n",
       "    </tr>\n",
       "    <tr>\n",
       "      <th>219572</th>\n",
       "      <td>48448538</td>\n",
       "      <td>#include \"stdafx.h\"\\n#include &lt; iostream&gt;\\n#in...</td>\n",
       "    </tr>\n",
       "    <tr>\n",
       "      <th>219573</th>\n",
       "      <td>43381034</td>\n",
       "      <td>template &lt;typename T, size_t val = sizeof(T)&gt;\\...</td>\n",
       "    </tr>\n",
       "  </tbody>\n",
       "</table>\n",
       "<p>219574 rows × 2 columns</p>\n",
       "</div>"
      ],
      "text/plain": [
       "              id                                               code\n",
       "0       30877241  void list_file(char* directory) {\\n  DIR *d;\\n...\n",
       "1       40233070  /*****   PLEASE DO NOT EVER DO THIS IN REAL CO...\n",
       "2       29652839  #include <Windows.h>\\n#include <string>\\n\\nboo...\n",
       "3       55118246  #include <cstdlib>\\n#include <cstring>\\n#inclu...\n",
       "4       53767640  void dir_details(int socket) {\\n    //Set up a...\n",
       "...          ...                                                ...\n",
       "219569  29433869  void MainWindow::Quit()\\n{\\n    close();\\n    ...\n",
       "219570  49517511  #include <iostream>\\n#include <string>\\n#inclu...\n",
       "219571  22337006  #include <iostream>\\n#include<stdio.h>\\n#inclu...\n",
       "219572  48448538  #include \"stdafx.h\"\\n#include < iostream>\\n#in...\n",
       "219573  43381034  template <typename T, size_t val = sizeof(T)>\\...\n",
       "\n",
       "[219574 rows x 2 columns]"
      ]
     },
     "execution_count": 49,
     "metadata": {},
     "output_type": "execute_result"
    }
   ],
   "source": [
    "df_dict_keywords"
   ]
  },
  {
   "cell_type": "code",
   "execution_count": 108,
   "metadata": {},
   "outputs": [],
   "source": [
    "dictionary = df_dict_keywords.to_dict(orient='index')"
   ]
  },
  {
   "cell_type": "code",
   "execution_count": 54,
   "metadata": {},
   "outputs": [
    {
     "data": {
      "application/vnd.jupyter.widget-view+json": {
       "model_id": "a8ac3fe135ba4557bf794b17f7b9dbe9",
       "version_major": 2,
       "version_minor": 0
      },
      "text/plain": [
       "HBox(children=(FloatProgress(value=0.0, max=219574.0), HTML(value='')))"
      ]
     },
     "metadata": {},
     "output_type": "display_data"
    },
    {
     "name": "stdout",
     "output_type": "stream",
     "text": [
      "\n"
     ]
    }
   ],
   "source": [
    "for index in tqdm(range(len(dictionary))):\n",
    "    file_name = f\"{index}.cpp\"\n",
    "    with open(\"tmp/\"+file_name, \"w\", encoding=\"utf-8\") as f:\n",
    "        f.write(dictionary[index]['code'])"
   ]
  },
  {
   "cell_type": "code",
   "execution_count": 2,
   "metadata": {},
   "outputs": [],
   "source": [
    "proc = subprocess.Popen([\"echo\", \"%PATH%\"], stdout=subprocess.PIPE, shell=True)\n",
    "(out, err) = proc.communicate()\n",
    "result = out.decode('utf-8').split(\";\")\n",
    "path_to_clang = \"\"\n",
    "\n",
    "for env in result:\n",
    "    if 'Llvm' in env:\n",
    "        path_to_clang = env\n",
    "        "
   ]
  },
  {
   "cell_type": "code",
   "execution_count": 4,
   "metadata": {},
   "outputs": [
    {
     "data": {
      "application/vnd.jupyter.widget-view+json": {
       "model_id": "1b7c03859611410db62d67013edfa868",
       "version_major": 2,
       "version_minor": 0
      },
      "text/plain": [
       "HBox(children=(FloatProgress(value=0.0, max=54.0), HTML(value='')))"
      ]
     },
     "metadata": {},
     "output_type": "display_data"
    },
    {
     "name": "stdout",
     "output_type": "stream",
     "text": [
      "\n"
     ]
    }
   ],
   "source": [
    "tmp_no_header = set(os.listdir('tmp_no_header'))\n",
    "file_to_analyze = [x for x in os.listdir('tmp') if x not in tmp_no_header]\n",
    "\n",
    "for file in tqdm(file_to_analyze):\n",
    "    if not os.path.exists(\"tmp_no_header/\"+file):\n",
    "        try:\n",
    "            proc = subprocess.Popen([path_to_clang+\"/clang++\", \"-E\", \"tmp/\"+file , \"-o\", \"output.txt\"], stdout=subprocess.PIPE, shell=True, bufsize=1)\n",
    "            (out, err) = proc.communicate()\n",
    "\n",
    "            lines_to_write = []\n",
    "\n",
    "            if os.path.exists(\"output.txt\"):\n",
    "                for line in reversed(list(open(\"output.txt\"))):\n",
    "                    if not line.startswith('#'):\n",
    "                        lines_to_write.append(line)\n",
    "                    else:\n",
    "                        break;\n",
    "                \n",
    "                with open(\"tmp_no_header/\"+file, \"w\", encoding=\"utf-8\") as f:\n",
    "                    for line in reversed(lines_to_write):\n",
    "                        f.write(line)\n",
    "                os.remove(\"output.txt\")\n",
    "            else:\n",
    "                os.remove(\"tmp/\"+file) #remove the file in case of error with clang\n",
    "                \n",
    "        except UnicodeDecodeError:\n",
    "            print(file)\n",
    "            break;"
   ]
  },
  {
   "cell_type": "code",
   "execution_count": 46,
   "metadata": {
    "scrolled": true
   },
   "outputs": [
    {
     "data": {
      "application/vnd.jupyter.widget-view+json": {
       "model_id": "bbd0d155435641f6b067bb6f5ddd44fe",
       "version_major": 2,
       "version_minor": 0
      },
      "text/plain": [
       "HBox(children=(FloatProgress(value=0.0, max=169622.0), HTML(value='')))"
      ]
     },
     "metadata": {},
     "output_type": "display_data"
    },
    {
     "name": "stdout",
     "output_type": "stream",
     "text": [
      "\n"
     ]
    }
   ],
   "source": [
    "files = os.listdir('tmp_no_header')\n",
    "index_to_delete=[]\n",
    "\n",
    "for file in tqdm(files):\n",
    "    try:\n",
    "        parse_file(os.path.join('tmp_no_header', file))\n",
    "    except ParseError:\n",
    "        index_to_delete.append(file.split('.')[0])\n",
    "    except AssertionError:\n",
    "        print(\"AssertionError\")\n",
    "        print(file)\n",
    "        break;\n",
    "    except UnicodeDecodeError:\n",
    "        print(\"UnicodeDecodeError\")\n",
    "        print(file)\n",
    "        break;\n",
    "    except TypeError:\n",
    "        print(\"TypeError\")\n",
    "        print(file)\n",
    "        break;\n",
    "    except AttributeError:\n",
    "        print(\"AttributeError\")\n",
    "        print(file)\n",
    "        break;"
   ]
  },
  {
   "cell_type": "code",
   "execution_count": 109,
   "metadata": {},
   "outputs": [
    {
     "data": {
      "text/plain": [
       "126934"
      ]
     },
     "execution_count": 109,
     "metadata": {},
     "output_type": "execute_result"
    }
   ],
   "source": [
    "len(index_to_delete)"
   ]
  },
  {
   "cell_type": "code",
   "execution_count": 110,
   "metadata": {},
   "outputs": [
    {
     "data": {
      "text/plain": [
       "219574"
      ]
     },
     "execution_count": 110,
     "metadata": {},
     "output_type": "execute_result"
    }
   ],
   "source": [
    "len(dictionary)"
   ]
  },
  {
   "cell_type": "code",
   "execution_count": 111,
   "metadata": {},
   "outputs": [],
   "source": [
    "indexes = []\n",
    "\n",
    "for file in files:\n",
    "    file_name = file.split('.')[0]\n",
    "    indexes.append(int(file_name))"
   ]
  },
  {
   "cell_type": "code",
   "execution_count": 113,
   "metadata": {},
   "outputs": [
    {
     "data": {
      "application/vnd.jupyter.widget-view+json": {
       "model_id": "2474ba8bb04342de967d8d8f48313a4e",
       "version_major": 2,
       "version_minor": 0
      },
      "text/plain": [
       "HBox(children=(FloatProgress(value=0.0, max=126934.0), HTML(value='')))"
      ]
     },
     "metadata": {},
     "output_type": "display_data"
    },
    {
     "name": "stdout",
     "output_type": "stream",
     "text": [
      "\n"
     ]
    }
   ],
   "source": [
    "for index in tqdm(index_to_delete):\n",
    "    del dictionary[int(index)]"
   ]
  },
  {
   "cell_type": "code",
   "execution_count": 114,
   "metadata": {},
   "outputs": [
    {
     "data": {
      "text/plain": [
       "92640"
      ]
     },
     "execution_count": 114,
     "metadata": {},
     "output_type": "execute_result"
    }
   ],
   "source": [
    "len(dictionary)"
   ]
  },
  {
   "cell_type": "code",
   "execution_count": 115,
   "metadata": {},
   "outputs": [
    {
     "data": {
      "application/vnd.jupyter.widget-view+json": {
       "model_id": "d806ab2d078446098a4875572f5b6444",
       "version_major": 2,
       "version_minor": 0
      },
      "text/plain": [
       "HBox(children=(FloatProgress(value=0.0, max=92640.0), HTML(value='')))"
      ]
     },
     "metadata": {},
     "output_type": "display_data"
    },
    {
     "name": "stdout",
     "output_type": "stream",
     "text": [
      "\n"
     ]
    }
   ],
   "source": [
    "for key in tqdm(list(dictionary)):\n",
    "    if key not in indexes:\n",
    "        del dictionary[key] "
   ]
  },
  {
   "cell_type": "code",
   "execution_count": 116,
   "metadata": {},
   "outputs": [
    {
     "data": {
      "text/plain": [
       "42688"
      ]
     },
     "execution_count": 116,
     "metadata": {},
     "output_type": "execute_result"
    }
   ],
   "source": [
    "len(dictionary)"
   ]
  },
  {
   "cell_type": "code",
   "execution_count": 117,
   "metadata": {},
   "outputs": [],
   "source": [
    "df_files_static_analysis = pd.DataFrame.from_dict(dictionary, orient='index')"
   ]
  },
  {
   "cell_type": "code",
   "execution_count": 119,
   "metadata": {},
   "outputs": [
    {
     "data": {
      "text/html": [
       "<div>\n",
       "<style scoped>\n",
       "    .dataframe tbody tr th:only-of-type {\n",
       "        vertical-align: middle;\n",
       "    }\n",
       "\n",
       "    .dataframe tbody tr th {\n",
       "        vertical-align: top;\n",
       "    }\n",
       "\n",
       "    .dataframe thead th {\n",
       "        text-align: right;\n",
       "    }\n",
       "</style>\n",
       "<table border=\"1\" class=\"dataframe\">\n",
       "  <thead>\n",
       "    <tr style=\"text-align: right;\">\n",
       "      <th></th>\n",
       "      <th>id</th>\n",
       "      <th>code</th>\n",
       "    </tr>\n",
       "  </thead>\n",
       "  <tbody>\n",
       "    <tr>\n",
       "      <th>0</th>\n",
       "      <td>30877241</td>\n",
       "      <td>void list_file(char* directory) {\\n  DIR *d;\\n...</td>\n",
       "    </tr>\n",
       "    <tr>\n",
       "      <th>1</th>\n",
       "      <td>46270581</td>\n",
       "      <td>struct guest {\\n        char last_name[30];\\n...</td>\n",
       "    </tr>\n",
       "    <tr>\n",
       "      <th>2</th>\n",
       "      <td>33786645</td>\n",
       "      <td>#include &lt;string.h&gt;\\n#include &lt;conio.h.&gt;\\n...</td>\n",
       "    </tr>\n",
       "    <tr>\n",
       "      <th>3</th>\n",
       "      <td>25411646</td>\n",
       "      <td>void callback (struct Request req)\\n{\\n    cha...</td>\n",
       "    </tr>\n",
       "    <tr>\n",
       "      <th>4</th>\n",
       "      <td>44140242</td>\n",
       "      <td>#include &lt;stdio.h&gt;\\n#include &lt;stdlib.h&gt;\\n#incl...</td>\n",
       "    </tr>\n",
       "    <tr>\n",
       "      <th>...</th>\n",
       "      <td>...</td>\n",
       "      <td>...</td>\n",
       "    </tr>\n",
       "    <tr>\n",
       "      <th>42683</th>\n",
       "      <td>64567761</td>\n",
       "      <td>int main(){\\n    int n;\\n    int price,q;\\n   ...</td>\n",
       "    </tr>\n",
       "    <tr>\n",
       "      <th>42684</th>\n",
       "      <td>30573587</td>\n",
       "      <td>struct tree* buildTree2(char in[], char post[]...</td>\n",
       "    </tr>\n",
       "    <tr>\n",
       "      <th>42685</th>\n",
       "      <td>61468380</td>\n",
       "      <td>#include &lt;stdio.h&gt;\\n#include &lt;string.h&gt;\\n\\nint...</td>\n",
       "    </tr>\n",
       "    <tr>\n",
       "      <th>42686</th>\n",
       "      <td>51092098</td>\n",
       "      <td>#include&lt;stdio.h&gt;\\n#include&lt;stdlib.h&gt; /* The l...</td>\n",
       "    </tr>\n",
       "    <tr>\n",
       "      <th>42687</th>\n",
       "      <td>29029243</td>\n",
       "      <td>#include &lt;stdio.h&gt;\\n\\nint main(void) {\\n    ch...</td>\n",
       "    </tr>\n",
       "  </tbody>\n",
       "</table>\n",
       "<p>42688 rows × 2 columns</p>\n",
       "</div>"
      ],
      "text/plain": [
       "             id                                               code\n",
       "0      30877241  void list_file(char* directory) {\\n  DIR *d;\\n...\n",
       "1      46270581   struct guest {\\n        char last_name[30];\\n...\n",
       "2      33786645      #include <string.h>\\n#include <conio.h.>\\n...\n",
       "3      25411646  void callback (struct Request req)\\n{\\n    cha...\n",
       "4      44140242  #include <stdio.h>\\n#include <stdlib.h>\\n#incl...\n",
       "...         ...                                                ...\n",
       "42683  64567761  int main(){\\n    int n;\\n    int price,q;\\n   ...\n",
       "42684  30573587  struct tree* buildTree2(char in[], char post[]...\n",
       "42685  61468380  #include <stdio.h>\\n#include <string.h>\\n\\nint...\n",
       "42686  51092098  #include<stdio.h>\\n#include<stdlib.h> /* The l...\n",
       "42687  29029243  #include <stdio.h>\\n\\nint main(void) {\\n    ch...\n",
       "\n",
       "[42688 rows x 2 columns]"
      ]
     },
     "execution_count": 119,
     "metadata": {},
     "output_type": "execute_result"
    }
   ],
   "source": [
    "df_files_static_analysis = df_files_static_analysis.drop_duplicates().reset_index(drop=True)\n",
    "df_files_static_analysis"
   ]
  },
  {
   "cell_type": "code",
   "execution_count": 121,
   "metadata": {},
   "outputs": [],
   "source": [
    "df_files_static_analysis.to_csv('../Datasets Code Snippets/code_snippets_static_analysis.csv', index=False)"
   ]
  },
  {
   "cell_type": "markdown",
   "metadata": {},
   "source": [
    "# Detecting vulnerabilities"
   ]
  },
  {
   "cell_type": "code",
   "execution_count": 4,
   "metadata": {},
   "outputs": [
    {
     "data": {
      "text/html": [
       "<div>\n",
       "<style scoped>\n",
       "    .dataframe tbody tr th:only-of-type {\n",
       "        vertical-align: middle;\n",
       "    }\n",
       "\n",
       "    .dataframe tbody tr th {\n",
       "        vertical-align: top;\n",
       "    }\n",
       "\n",
       "    .dataframe thead th {\n",
       "        text-align: right;\n",
       "    }\n",
       "</style>\n",
       "<table border=\"1\" class=\"dataframe\">\n",
       "  <thead>\n",
       "    <tr style=\"text-align: right;\">\n",
       "      <th></th>\n",
       "      <th>id</th>\n",
       "      <th>code</th>\n",
       "    </tr>\n",
       "  </thead>\n",
       "  <tbody>\n",
       "    <tr>\n",
       "      <th>0</th>\n",
       "      <td>30877241</td>\n",
       "      <td>void list_file(char* directory) {\\n  DIR *d;\\n...</td>\n",
       "    </tr>\n",
       "    <tr>\n",
       "      <th>1</th>\n",
       "      <td>46270581</td>\n",
       "      <td>struct guest {\\n        char last_name[30];\\n...</td>\n",
       "    </tr>\n",
       "    <tr>\n",
       "      <th>2</th>\n",
       "      <td>33786645</td>\n",
       "      <td>#include &lt;string.h&gt;\\n#include &lt;conio.h.&gt;\\n...</td>\n",
       "    </tr>\n",
       "    <tr>\n",
       "      <th>3</th>\n",
       "      <td>25411646</td>\n",
       "      <td>void callback (struct Request req)\\n{\\n    cha...</td>\n",
       "    </tr>\n",
       "    <tr>\n",
       "      <th>4</th>\n",
       "      <td>44140242</td>\n",
       "      <td>#include &lt;stdio.h&gt;\\n#include &lt;stdlib.h&gt;\\n#incl...</td>\n",
       "    </tr>\n",
       "    <tr>\n",
       "      <th>...</th>\n",
       "      <td>...</td>\n",
       "      <td>...</td>\n",
       "    </tr>\n",
       "    <tr>\n",
       "      <th>42683</th>\n",
       "      <td>64567761</td>\n",
       "      <td>int main(){\\n    int n;\\n    int price,q;\\n   ...</td>\n",
       "    </tr>\n",
       "    <tr>\n",
       "      <th>42684</th>\n",
       "      <td>30573587</td>\n",
       "      <td>struct tree* buildTree2(char in[], char post[]...</td>\n",
       "    </tr>\n",
       "    <tr>\n",
       "      <th>42685</th>\n",
       "      <td>61468380</td>\n",
       "      <td>#include &lt;stdio.h&gt;\\n#include &lt;string.h&gt;\\n\\nint...</td>\n",
       "    </tr>\n",
       "    <tr>\n",
       "      <th>42686</th>\n",
       "      <td>51092098</td>\n",
       "      <td>#include&lt;stdio.h&gt;\\n#include&lt;stdlib.h&gt; /* The l...</td>\n",
       "    </tr>\n",
       "    <tr>\n",
       "      <th>42687</th>\n",
       "      <td>29029243</td>\n",
       "      <td>#include &lt;stdio.h&gt;\\n\\nint main(void) {\\n    ch...</td>\n",
       "    </tr>\n",
       "  </tbody>\n",
       "</table>\n",
       "<p>42688 rows × 2 columns</p>\n",
       "</div>"
      ],
      "text/plain": [
       "             id                                               code\n",
       "0      30877241  void list_file(char* directory) {\\n  DIR *d;\\n...\n",
       "1      46270581   struct guest {\\n        char last_name[30];\\n...\n",
       "2      33786645      #include <string.h>\\n#include <conio.h.>\\n...\n",
       "3      25411646  void callback (struct Request req)\\n{\\n    cha...\n",
       "4      44140242  #include <stdio.h>\\n#include <stdlib.h>\\n#incl...\n",
       "...         ...                                                ...\n",
       "42683  64567761  int main(){\\n    int n;\\n    int price,q;\\n   ...\n",
       "42684  30573587  struct tree* buildTree2(char in[], char post[]...\n",
       "42685  61468380  #include <stdio.h>\\n#include <string.h>\\n\\nint...\n",
       "42686  51092098  #include<stdio.h>\\n#include<stdlib.h> /* The l...\n",
       "42687  29029243  #include <stdio.h>\\n\\nint main(void) {\\n    ch...\n",
       "\n",
       "[42688 rows x 2 columns]"
      ]
     },
     "execution_count": 4,
     "metadata": {},
     "output_type": "execute_result"
    }
   ],
   "source": [
    "df_files_static_analysis = pd.read_csv('../Datasets Code Snippets/code_snippets_static_analysis.csv')\n",
    "df_files_static_analysis"
   ]
  },
  {
   "cell_type": "code",
   "execution_count": 134,
   "metadata": {},
   "outputs": [
    {
     "data": {
      "application/vnd.jupyter.widget-view+json": {
       "model_id": "c9af0854f98e41b2a71bff1e82d42855",
       "version_major": 2,
       "version_minor": 0
      },
      "text/plain": [
       "HBox(children=(FloatProgress(value=0.0, max=42688.0), HTML(value='')))"
      ]
     },
     "metadata": {},
     "output_type": "display_data"
    },
    {
     "name": "stdout",
     "output_type": "stream",
     "text": [
      "\n"
     ]
    }
   ],
   "source": [
    "for index in tqdm(range(df_files_static_analysis.shape[0])):\n",
    "    file_name = f\"{index}.cpp\"\n",
    "    with open(\"code_static_analysis/\"+file_name, \"w\", encoding=\"utf-8\") as f:\n",
    "        f.write(df_files_static_analysis.iloc[index, 1])"
   ]
  },
  {
   "cell_type": "code",
   "execution_count": 21,
   "metadata": {},
   "outputs": [
    {
     "data": {
      "application/vnd.jupyter.widget-view+json": {
       "model_id": "432e5a505a6b4a1e903f5a8462afd8ff",
       "version_major": 2,
       "version_minor": 0
      },
      "text/plain": [
       "HBox(children=(FloatProgress(value=0.0, max=42688.0), HTML(value='')))"
      ]
     },
     "metadata": {},
     "output_type": "display_data"
    },
    {
     "name": "stdout",
     "output_type": "stream",
     "text": [
      "\n"
     ]
    }
   ],
   "source": [
    "result_static_analysis = dict()\n",
    "index = 0\n",
    "\n",
    "for file in tqdm(os.listdir('code_static_analysis')):\n",
    "    try:\n",
    "        i = int(file.split('.')[0])\n",
    "        proc = subprocess.run([\"cppcheck\", \"--enable=style\", \"--template={cwe}:{file}:{line}:{severity}:{code}:{message}\", \"code_static_analysis/\"+file], capture_output=True)\n",
    "        result = proc.stderr.decode('utf-8')\n",
    "        if result:\n",
    "            items = result.split('\\r\\n')\n",
    "            items = list(filter(None, items))\n",
    "\n",
    "            for x, y in zip(*[iter(items)] * 2):\n",
    "                row = x + y\n",
    "                row = row.split(':')\n",
    "                result_static_analysis[index]={'id_post': df_files_static_analysis.iloc[i, :]['id'], 'cwe':row[0], 'file': file, 'line': row[2], 'severity': row[3],\n",
    "                                      'code': row[4], 'message': row[5]}\n",
    "                index = index + 1\n",
    "        else:\n",
    "            result_static_analysis[index]={'id_post': df_files_static_analysis.iloc[i, :]['id'], 'cwe':0, 'file': file, 'line': '', 'severity': '',\n",
    "                                      'code': '', 'message': ''}\n",
    "            index = index + 1\n",
    "    except UnicodeDecodeError:\n",
    "        print(file)\n",
    "        break;"
   ]
  },
  {
   "cell_type": "code",
   "execution_count": 22,
   "metadata": {},
   "outputs": [
    {
     "data": {
      "text/plain": [
       "88680"
      ]
     },
     "execution_count": 22,
     "metadata": {},
     "output_type": "execute_result"
    }
   ],
   "source": [
    "len(result_static_analysis) #todo remove 'syntax error' in message"
   ]
  },
  {
   "cell_type": "code",
   "execution_count": 64,
   "metadata": {},
   "outputs": [
    {
     "data": {
      "text/html": [
       "<div>\n",
       "<style scoped>\n",
       "    .dataframe tbody tr th:only-of-type {\n",
       "        vertical-align: middle;\n",
       "    }\n",
       "\n",
       "    .dataframe tbody tr th {\n",
       "        vertical-align: top;\n",
       "    }\n",
       "\n",
       "    .dataframe thead th {\n",
       "        text-align: right;\n",
       "    }\n",
       "</style>\n",
       "<table border=\"1\" class=\"dataframe\">\n",
       "  <thead>\n",
       "    <tr style=\"text-align: right;\">\n",
       "      <th></th>\n",
       "      <th>id_post</th>\n",
       "      <th>cwe</th>\n",
       "      <th>file</th>\n",
       "      <th>line</th>\n",
       "      <th>severity</th>\n",
       "      <th>code</th>\n",
       "      <th>message</th>\n",
       "    </tr>\n",
       "  </thead>\n",
       "  <tbody>\n",
       "    <tr>\n",
       "      <th>0</th>\n",
       "      <td>30877241</td>\n",
       "      <td>398</td>\n",
       "      <td>0.cpp</td>\n",
       "      <td>3</td>\n",
       "      <td>style</td>\n",
       "      <td>struct dirent *dir;                 ^</td>\n",
       "      <td>The scope of the variable 'dir' can be reduced.</td>\n",
       "    </tr>\n",
       "    <tr>\n",
       "      <th>1</th>\n",
       "      <td>46270581</td>\n",
       "      <td>0</td>\n",
       "      <td>1.cpp</td>\n",
       "      <td></td>\n",
       "      <td></td>\n",
       "      <td></td>\n",
       "      <td></td>\n",
       "    </tr>\n",
       "    <tr>\n",
       "      <th>2</th>\n",
       "      <td>29167852</td>\n",
       "      <td>0</td>\n",
       "      <td>10.cpp</td>\n",
       "      <td></td>\n",
       "      <td></td>\n",
       "      <td></td>\n",
       "      <td></td>\n",
       "    </tr>\n",
       "    <tr>\n",
       "      <th>3</th>\n",
       "      <td>21094340</td>\n",
       "      <td>0</td>\n",
       "      <td>100.cpp</td>\n",
       "      <td></td>\n",
       "      <td></td>\n",
       "      <td></td>\n",
       "      <td></td>\n",
       "    </tr>\n",
       "    <tr>\n",
       "      <th>4</th>\n",
       "      <td>35543886</td>\n",
       "      <td>0</td>\n",
       "      <td>1000.cpp</td>\n",
       "      <td></td>\n",
       "      <td></td>\n",
       "      <td></td>\n",
       "      <td></td>\n",
       "    </tr>\n",
       "    <tr>\n",
       "      <th>...</th>\n",
       "      <td>...</td>\n",
       "      <td>...</td>\n",
       "      <td>...</td>\n",
       "      <td>...</td>\n",
       "      <td>...</td>\n",
       "      <td>...</td>\n",
       "      <td>...</td>\n",
       "    </tr>\n",
       "    <tr>\n",
       "      <th>88675</th>\n",
       "      <td>46064829</td>\n",
       "      <td>398</td>\n",
       "      <td>9997.cpp</td>\n",
       "      <td>15</td>\n",
       "      <td>style</td>\n",
       "      <td>check = ((test *) check);            ^</td>\n",
       "      <td>C-style pointer casting</td>\n",
       "    </tr>\n",
       "    <tr>\n",
       "      <th>88676</th>\n",
       "      <td>46064829</td>\n",
       "      <td>398</td>\n",
       "      <td>9997.cpp</td>\n",
       "      <td>16</td>\n",
       "      <td>style</td>\n",
       "      <td>check2 = (test *)check;            ^</td>\n",
       "      <td>C-style pointer casting</td>\n",
       "    </tr>\n",
       "    <tr>\n",
       "      <th>88677</th>\n",
       "      <td>46064829</td>\n",
       "      <td>398</td>\n",
       "      <td>9997.cpp</td>\n",
       "      <td>21</td>\n",
       "      <td>style</td>\n",
       "      <td>((test *)check)-&gt;a = 2; //this also works    ^</td>\n",
       "      <td>C-style pointer casting</td>\n",
       "    </tr>\n",
       "    <tr>\n",
       "      <th>88678</th>\n",
       "      <td>54440110</td>\n",
       "      <td>398</td>\n",
       "      <td>9998.cpp</td>\n",
       "      <td>10</td>\n",
       "      <td>style</td>\n",
       "      <td>int *array = (int *)malloc(x * sizeof(int));  ...</td>\n",
       "      <td>C-style pointer casting</td>\n",
       "    </tr>\n",
       "    <tr>\n",
       "      <th>88679</th>\n",
       "      <td>50084730</td>\n",
       "      <td>0</td>\n",
       "      <td>9999.cpp</td>\n",
       "      <td></td>\n",
       "      <td></td>\n",
       "      <td></td>\n",
       "      <td></td>\n",
       "    </tr>\n",
       "  </tbody>\n",
       "</table>\n",
       "<p>88680 rows × 7 columns</p>\n",
       "</div>"
      ],
      "text/plain": [
       "        id_post  cwe      file line severity  \\\n",
       "0      30877241  398     0.cpp    3    style   \n",
       "1      46270581    0     1.cpp                 \n",
       "2      29167852    0    10.cpp                 \n",
       "3      21094340    0   100.cpp                 \n",
       "4      35543886    0  1000.cpp                 \n",
       "...         ...  ...       ...  ...      ...   \n",
       "88675  46064829  398  9997.cpp   15    style   \n",
       "88676  46064829  398  9997.cpp   16    style   \n",
       "88677  46064829  398  9997.cpp   21    style   \n",
       "88678  54440110  398  9998.cpp   10    style   \n",
       "88679  50084730    0  9999.cpp                 \n",
       "\n",
       "                                                    code  \\\n",
       "0                  struct dirent *dir;                 ^   \n",
       "1                                                          \n",
       "2                                                          \n",
       "3                                                          \n",
       "4                                                          \n",
       "...                                                  ...   \n",
       "88675             check = ((test *) check);            ^   \n",
       "88676               check2 = (test *)check;            ^   \n",
       "88677     ((test *)check)->a = 2; //this also works    ^   \n",
       "88678  int *array = (int *)malloc(x * sizeof(int));  ...   \n",
       "88679                                                      \n",
       "\n",
       "                                               message  \n",
       "0      The scope of the variable 'dir' can be reduced.  \n",
       "1                                                       \n",
       "2                                                       \n",
       "3                                                       \n",
       "4                                                       \n",
       "...                                                ...  \n",
       "88675                          C-style pointer casting  \n",
       "88676                          C-style pointer casting  \n",
       "88677                          C-style pointer casting  \n",
       "88678                          C-style pointer casting  \n",
       "88679                                                   \n",
       "\n",
       "[88680 rows x 7 columns]"
      ]
     },
     "execution_count": 64,
     "metadata": {},
     "output_type": "execute_result"
    }
   ],
   "source": [
    "df_result_static_analysis = pd.DataFrame.from_dict(result_static_analysis, orient='index')\n",
    "df_result_static_analysis"
   ]
  },
  {
   "cell_type": "code",
   "execution_count": 79,
   "metadata": {},
   "outputs": [
    {
     "name": "stdout",
     "output_type": "stream",
     "text": [
      "Posts without vulnerabilities: \n"
     ]
    },
    {
     "data": {
      "text/html": [
       "<div>\n",
       "<style scoped>\n",
       "    .dataframe tbody tr th:only-of-type {\n",
       "        vertical-align: middle;\n",
       "    }\n",
       "\n",
       "    .dataframe tbody tr th {\n",
       "        vertical-align: top;\n",
       "    }\n",
       "\n",
       "    .dataframe thead th {\n",
       "        text-align: right;\n",
       "    }\n",
       "</style>\n",
       "<table border=\"1\" class=\"dataframe\">\n",
       "  <thead>\n",
       "    <tr style=\"text-align: right;\">\n",
       "      <th></th>\n",
       "      <th>id_post</th>\n",
       "      <th>cwe</th>\n",
       "      <th>file</th>\n",
       "      <th>line</th>\n",
       "      <th>severity</th>\n",
       "      <th>code</th>\n",
       "      <th>message</th>\n",
       "    </tr>\n",
       "  </thead>\n",
       "  <tbody>\n",
       "    <tr>\n",
       "      <th>1</th>\n",
       "      <td>46270581</td>\n",
       "      <td>0</td>\n",
       "      <td>1.cpp</td>\n",
       "      <td></td>\n",
       "      <td></td>\n",
       "      <td></td>\n",
       "      <td></td>\n",
       "    </tr>\n",
       "    <tr>\n",
       "      <th>2</th>\n",
       "      <td>29167852</td>\n",
       "      <td>0</td>\n",
       "      <td>10.cpp</td>\n",
       "      <td></td>\n",
       "      <td></td>\n",
       "      <td></td>\n",
       "      <td></td>\n",
       "    </tr>\n",
       "    <tr>\n",
       "      <th>3</th>\n",
       "      <td>21094340</td>\n",
       "      <td>0</td>\n",
       "      <td>100.cpp</td>\n",
       "      <td></td>\n",
       "      <td></td>\n",
       "      <td></td>\n",
       "      <td></td>\n",
       "    </tr>\n",
       "    <tr>\n",
       "      <th>4</th>\n",
       "      <td>35543886</td>\n",
       "      <td>0</td>\n",
       "      <td>1000.cpp</td>\n",
       "      <td></td>\n",
       "      <td></td>\n",
       "      <td></td>\n",
       "      <td></td>\n",
       "    </tr>\n",
       "    <tr>\n",
       "      <th>5</th>\n",
       "      <td>50084730</td>\n",
       "      <td>0</td>\n",
       "      <td>10000.cpp</td>\n",
       "      <td></td>\n",
       "      <td></td>\n",
       "      <td></td>\n",
       "      <td></td>\n",
       "    </tr>\n",
       "    <tr>\n",
       "      <th>...</th>\n",
       "      <td>...</td>\n",
       "      <td>...</td>\n",
       "      <td>...</td>\n",
       "      <td>...</td>\n",
       "      <td>...</td>\n",
       "      <td>...</td>\n",
       "      <td>...</td>\n",
       "    </tr>\n",
       "    <tr>\n",
       "      <th>88669</th>\n",
       "      <td>39382760</td>\n",
       "      <td>0</td>\n",
       "      <td>9991.cpp</td>\n",
       "      <td></td>\n",
       "      <td></td>\n",
       "      <td></td>\n",
       "      <td></td>\n",
       "    </tr>\n",
       "    <tr>\n",
       "      <th>88672</th>\n",
       "      <td>52920852</td>\n",
       "      <td>0</td>\n",
       "      <td>9994.cpp</td>\n",
       "      <td></td>\n",
       "      <td></td>\n",
       "      <td></td>\n",
       "      <td></td>\n",
       "    </tr>\n",
       "    <tr>\n",
       "      <th>88673</th>\n",
       "      <td>52920852</td>\n",
       "      <td>0</td>\n",
       "      <td>9995.cpp</td>\n",
       "      <td></td>\n",
       "      <td></td>\n",
       "      <td></td>\n",
       "      <td></td>\n",
       "    </tr>\n",
       "    <tr>\n",
       "      <th>88674</th>\n",
       "      <td>37165553</td>\n",
       "      <td>0</td>\n",
       "      <td>9996.cpp</td>\n",
       "      <td></td>\n",
       "      <td></td>\n",
       "      <td></td>\n",
       "      <td></td>\n",
       "    </tr>\n",
       "    <tr>\n",
       "      <th>88679</th>\n",
       "      <td>50084730</td>\n",
       "      <td>0</td>\n",
       "      <td>9999.cpp</td>\n",
       "      <td></td>\n",
       "      <td></td>\n",
       "      <td></td>\n",
       "      <td></td>\n",
       "    </tr>\n",
       "  </tbody>\n",
       "</table>\n",
       "<p>17398 rows × 7 columns</p>\n",
       "</div>"
      ],
      "text/plain": [
       "        id_post cwe       file line severity code message\n",
       "1      46270581   0      1.cpp                           \n",
       "2      29167852   0     10.cpp                           \n",
       "3      21094340   0    100.cpp                           \n",
       "4      35543886   0   1000.cpp                           \n",
       "5      50084730   0  10000.cpp                           \n",
       "...         ...  ..        ...  ...      ...  ...     ...\n",
       "88669  39382760   0   9991.cpp                           \n",
       "88672  52920852   0   9994.cpp                           \n",
       "88673  52920852   0   9995.cpp                           \n",
       "88674  37165553   0   9996.cpp                           \n",
       "88679  50084730   0   9999.cpp                           \n",
       "\n",
       "[17398 rows x 7 columns]"
      ]
     },
     "execution_count": 79,
     "metadata": {},
     "output_type": "execute_result"
    }
   ],
   "source": [
    "print(\"Posts without vulnerabilities: \" )\n",
    "df_result_static_analysis.loc[df_result_static_analysis['severity']=='']"
   ]
  },
  {
   "cell_type": "code",
   "execution_count": 85,
   "metadata": {},
   "outputs": [
    {
     "data": {
      "text/html": [
       "<div>\n",
       "<style scoped>\n",
       "    .dataframe tbody tr th:only-of-type {\n",
       "        vertical-align: middle;\n",
       "    }\n",
       "\n",
       "    .dataframe tbody tr th {\n",
       "        vertical-align: top;\n",
       "    }\n",
       "\n",
       "    .dataframe thead th {\n",
       "        text-align: right;\n",
       "    }\n",
       "</style>\n",
       "<table border=\"1\" class=\"dataframe\">\n",
       "  <thead>\n",
       "    <tr style=\"text-align: right;\">\n",
       "      <th></th>\n",
       "      <th>id_post</th>\n",
       "      <th>cwe</th>\n",
       "      <th>file</th>\n",
       "      <th>line</th>\n",
       "      <th>severity</th>\n",
       "      <th>code</th>\n",
       "      <th>message</th>\n",
       "    </tr>\n",
       "  </thead>\n",
       "  <tbody>\n",
       "    <tr>\n",
       "      <th>0</th>\n",
       "      <td>30877241</td>\n",
       "      <td>398</td>\n",
       "      <td>0.cpp</td>\n",
       "      <td>3</td>\n",
       "      <td>style</td>\n",
       "      <td>struct dirent *dir;                 ^</td>\n",
       "      <td>The scope of the variable 'dir' can be reduced.</td>\n",
       "    </tr>\n",
       "    <tr>\n",
       "      <th>1</th>\n",
       "      <td>46270581</td>\n",
       "      <td>0</td>\n",
       "      <td>1.cpp</td>\n",
       "      <td></td>\n",
       "      <td></td>\n",
       "      <td></td>\n",
       "      <td></td>\n",
       "    </tr>\n",
       "    <tr>\n",
       "      <th>2</th>\n",
       "      <td>29167852</td>\n",
       "      <td>0</td>\n",
       "      <td>10.cpp</td>\n",
       "      <td></td>\n",
       "      <td></td>\n",
       "      <td></td>\n",
       "      <td></td>\n",
       "    </tr>\n",
       "    <tr>\n",
       "      <th>3</th>\n",
       "      <td>21094340</td>\n",
       "      <td>0</td>\n",
       "      <td>100.cpp</td>\n",
       "      <td></td>\n",
       "      <td></td>\n",
       "      <td></td>\n",
       "      <td></td>\n",
       "    </tr>\n",
       "    <tr>\n",
       "      <th>4</th>\n",
       "      <td>35543886</td>\n",
       "      <td>0</td>\n",
       "      <td>1000.cpp</td>\n",
       "      <td></td>\n",
       "      <td></td>\n",
       "      <td></td>\n",
       "      <td></td>\n",
       "    </tr>\n",
       "    <tr>\n",
       "      <th>...</th>\n",
       "      <td>...</td>\n",
       "      <td>...</td>\n",
       "      <td>...</td>\n",
       "      <td>...</td>\n",
       "      <td>...</td>\n",
       "      <td>...</td>\n",
       "      <td>...</td>\n",
       "    </tr>\n",
       "    <tr>\n",
       "      <th>88675</th>\n",
       "      <td>46064829</td>\n",
       "      <td>398</td>\n",
       "      <td>9997.cpp</td>\n",
       "      <td>15</td>\n",
       "      <td>style</td>\n",
       "      <td>check = ((test *) check);            ^</td>\n",
       "      <td>C-style pointer casting</td>\n",
       "    </tr>\n",
       "    <tr>\n",
       "      <th>88676</th>\n",
       "      <td>46064829</td>\n",
       "      <td>398</td>\n",
       "      <td>9997.cpp</td>\n",
       "      <td>16</td>\n",
       "      <td>style</td>\n",
       "      <td>check2 = (test *)check;            ^</td>\n",
       "      <td>C-style pointer casting</td>\n",
       "    </tr>\n",
       "    <tr>\n",
       "      <th>88677</th>\n",
       "      <td>46064829</td>\n",
       "      <td>398</td>\n",
       "      <td>9997.cpp</td>\n",
       "      <td>21</td>\n",
       "      <td>style</td>\n",
       "      <td>((test *)check)-&gt;a = 2; //this also works    ^</td>\n",
       "      <td>C-style pointer casting</td>\n",
       "    </tr>\n",
       "    <tr>\n",
       "      <th>88678</th>\n",
       "      <td>54440110</td>\n",
       "      <td>398</td>\n",
       "      <td>9998.cpp</td>\n",
       "      <td>10</td>\n",
       "      <td>style</td>\n",
       "      <td>int *array = (int *)malloc(x * sizeof(int));  ...</td>\n",
       "      <td>C-style pointer casting</td>\n",
       "    </tr>\n",
       "    <tr>\n",
       "      <th>88679</th>\n",
       "      <td>50084730</td>\n",
       "      <td>0</td>\n",
       "      <td>9999.cpp</td>\n",
       "      <td></td>\n",
       "      <td></td>\n",
       "      <td></td>\n",
       "      <td></td>\n",
       "    </tr>\n",
       "  </tbody>\n",
       "</table>\n",
       "<p>87329 rows × 7 columns</p>\n",
       "</div>"
      ],
      "text/plain": [
       "        id_post  cwe      file line severity  \\\n",
       "0      30877241  398     0.cpp    3    style   \n",
       "1      46270581    0     1.cpp                 \n",
       "2      29167852    0    10.cpp                 \n",
       "3      21094340    0   100.cpp                 \n",
       "4      35543886    0  1000.cpp                 \n",
       "...         ...  ...       ...  ...      ...   \n",
       "88675  46064829  398  9997.cpp   15    style   \n",
       "88676  46064829  398  9997.cpp   16    style   \n",
       "88677  46064829  398  9997.cpp   21    style   \n",
       "88678  54440110  398  9998.cpp   10    style   \n",
       "88679  50084730    0  9999.cpp                 \n",
       "\n",
       "                                                    code  \\\n",
       "0                  struct dirent *dir;                 ^   \n",
       "1                                                          \n",
       "2                                                          \n",
       "3                                                          \n",
       "4                                                          \n",
       "...                                                  ...   \n",
       "88675             check = ((test *) check);            ^   \n",
       "88676               check2 = (test *)check;            ^   \n",
       "88677     ((test *)check)->a = 2; //this also works    ^   \n",
       "88678  int *array = (int *)malloc(x * sizeof(int));  ...   \n",
       "88679                                                      \n",
       "\n",
       "                                               message  \n",
       "0      The scope of the variable 'dir' can be reduced.  \n",
       "1                                                       \n",
       "2                                                       \n",
       "3                                                       \n",
       "4                                                       \n",
       "...                                                ...  \n",
       "88675                          C-style pointer casting  \n",
       "88676                          C-style pointer casting  \n",
       "88677                          C-style pointer casting  \n",
       "88678                          C-style pointer casting  \n",
       "88679                                                   \n",
       "\n",
       "[87329 rows x 7 columns]"
      ]
     },
     "execution_count": 85,
     "metadata": {},
     "output_type": "execute_result"
    }
   ],
   "source": [
    "severities = pd.unique(df_result_static_analysis['severity'])\n",
    "severities = list(filter(None, severities))\n",
    "\n",
    "for severity in severities:\n",
    "    to_delete = df_result_static_analysis.loc[df_result_static_analysis['cwe']=='0'].loc[df_result_static_analysis['severity']==severity].index\n",
    "    df_result_static_analysis = df_result_static_analysis.drop(to_delete)\n",
    "df_result_static_analysis"
   ]
  },
  {
   "cell_type": "code",
   "execution_count": 96,
   "metadata": {},
   "outputs": [
    {
     "name": "stdout",
     "output_type": "stream",
     "text": [
      "Count by severity:\n",
      "style:  39966\n",
      "warning:  17147\n",
      "error:  10395\n",
      "portability:  2379\n",
      "performance:  44\n",
      "Without vulnerabilities:  17398\n"
     ]
    }
   ],
   "source": [
    "print(\"Count by severity:\")\n",
    "\n",
    "for severity in severities:\n",
    "    print(severity+\": \",df_result_static_analysis.loc[df_result_static_analysis['severity']==severity].count()[0])\n",
    "print(\"Without vulnerabilities: \",df_result_static_analysis.loc[df_result_static_analysis['severity']==''].count()[0])"
   ]
  },
  {
   "cell_type": "code",
   "execution_count": 97,
   "metadata": {},
   "outputs": [],
   "source": [
    "df_result_static_analysis.to_csv('Results/results_static_analysis.csv', index=False)"
   ]
  }
 ],
 "metadata": {
  "kernelspec": {
   "display_name": "Python 3 (ipykernel)",
   "language": "python",
   "name": "python3"
  },
  "language_info": {
   "codemirror_mode": {
    "name": "ipython",
    "version": 3
   },
   "file_extension": ".py",
   "mimetype": "text/x-python",
   "name": "python",
   "nbconvert_exporter": "python",
   "pygments_lexer": "ipython3",
   "version": "3.7.6"
  }
 },
 "nbformat": 4,
 "nbformat_minor": 4
}
