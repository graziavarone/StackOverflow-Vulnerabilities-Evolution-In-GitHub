{
 "cells": [
  {
   "cell_type": "code",
   "execution_count": 1,
   "metadata": {},
   "outputs": [],
   "source": [
    "import os\n",
    "from os import getcwd\n",
    "import pandas as pd\n",
    "import git\n",
    "import subprocess\n",
    "from os import chdir\n",
    "from subprocess import Popen\n",
    "from subprocess import PIPE, STDOUT"
   ]
  },
  {
   "cell_type": "code",
   "execution_count": 2,
   "metadata": {},
   "outputs": [],
   "source": [
    "ROOT_PATH = getcwd()"
   ]
  },
  {
   "cell_type": "code",
   "execution_count": 67,
   "metadata": {},
   "outputs": [],
   "source": [
    "#if code_contex is empty means that the file is delete or the rows vulnerable are removed\n",
    "#if only one row then there aren't changes to that file\n",
    "\n",
    "def checkGHCodeSnippetHistory(i, histories, folder):\n",
    "    history = pd.read_csv(os.path.join(folder, histories[i]))\n",
    "    history = history.fillna('')\n",
    "    repo_name = history['repo'][0]\n",
    "    print(\"Analyze repository \"+repo_name)\n",
    "    print()\n",
    "    files_to_analyze = pd.unique(history['file'])\n",
    "    folder_rep = repo_name.split('/')[-1]\n",
    "    repo = git.Repo.clone_from('https://github.com/'+repo_name+'.git', folder_rep)\n",
    "    index_row_vulnerable = None\n",
    "    \n",
    "    for file_name in files_to_analyze:\n",
    "        print(\"Analyze history for \"+file_name)\n",
    "        history_file = history.loc[history['file']==file_name]\n",
    "        \n",
    "        for _, row in history_file.iterrows():\n",
    "                    \n",
    "            if repo_name in ('bitcoin/bitcoin', 'tensorflow/tensorflow'):\n",
    "                if not row['code_context'] == '':\n",
    "                    index_row_vulnerable = _\n",
    "                    print(\"Code context modified on date \"+ str(row['commit_date'])+ \" with a reference to vulnerable Stack Overflow post\")\n",
    "                    print()\n",
    "            \n",
    "                if index_row_vulnerable and index_row_vulnerable >= 0:\n",
    "                    if row['code_context'] == '' and _ > index_row_vulnerable:\n",
    "                        print(\"The reference to vulnerable Stack Overflow post has been removed on date \"+ str(row['commit_date']))\n",
    "                        print()\n",
    "            else:\n",
    "                if not row['code_vuln'] == '':\n",
    "                    index_row_vulnerable = _\n",
    "                    print(\"Code context modified on date \"+ str(row['commit_date'])+ \" with this vulnerable line \"+ str(row['code_vuln']))\n",
    "                    print()\n",
    "\n",
    "                if index_row_vulnerable >= 0:\n",
    "                    if row['code_vuln'] == '' and _ > index_row_vulnerable:\n",
    "                        print(\"The vulnerability has been removed on date \"+ str(row['commit_date']))\n",
    "                        print()\n",
    "                 \n",
    "    os.system('rmdir /S /Q \"{}\"'.format(folder_rep))"
   ]
  },
  {
   "cell_type": "markdown",
   "metadata": {},
   "source": [
    "# C"
   ]
  },
  {
   "cell_type": "code",
   "execution_count": 10,
   "metadata": {},
   "outputs": [
    {
     "data": {
      "text/plain": [
       "2"
      ]
     },
     "execution_count": 10,
     "metadata": {},
     "output_type": "execute_result"
    }
   ],
   "source": [
    "folder = 'GHCodeSnippetHistory_C' \n",
    "c_histories = os.listdir(folder)\n",
    "len(c_histories)"
   ]
  },
  {
   "cell_type": "code",
   "execution_count": 28,
   "metadata": {
    "scrolled": false
   },
   "outputs": [
    {
     "name": "stdout",
     "output_type": "stream",
     "text": [
      "Analyze repository lvgl/lvgl\n",
      "\n",
      "Analyze history for src/lv_misc/lv_mem.c\n",
      "Code context modified on date 2018-07-25 06:52:59 +0200 with this vulnerable line static inline  void lv_mem_assert(void *p)\n",
      "\n",
      "The vulnerability has been removed on date 2018-10-05 17:22:49 +0200\n",
      "\n",
      "The vulnerability has been removed on date 2019-01-28 06:09:06 +0100\n",
      "\n",
      "The vulnerability has been removed on date 2019-01-28 15:18:59 +0100\n",
      "\n",
      "The vulnerability has been removed on date 2019-01-28 15:18:59 +0100\n",
      "\n",
      "The vulnerability has been removed on date 2019-03-15 19:41:54 -0400\n",
      "\n",
      "The vulnerability has been removed on date 2019-04-04 07:15:40 +0200\n",
      "\n",
      "Code context modified on date 2020-05-13 14:11:16 +0200 with this vulnerable line static LV_MEM_ATTR MEM_UNIT work_mem_int[LV_MEM_SIZE / sizeof(MEM_UNIT)];\n",
      "\n",
      "Code context modified on date 2020-06-08 20:22:06 +0100 with this vulnerable line static LV_MEM_ATTR MEM_UNIT work_mem_int[LV_MEM_SIZE / sizeof(MEM_UNIT)];\n",
      "\n",
      "Code context modified on date 2020-06-15 17:12:48 +0300 with this vulnerable line static LV_MEM_ATTR MEM_UNIT work_mem_int[LV_MEM_SIZE / sizeof(MEM_UNIT)];\n",
      "\n",
      "Code context modified on date 2020-06-18 06:40:39 -0400 with this vulnerable line static LV_MEM_ATTR MEM_UNIT work_mem_int[LV_MEM_SIZE / sizeof(MEM_UNIT)];\n",
      "\n",
      "Code context modified on date 2020-07-07 09:36:59 +0200 with this vulnerable line static LV_MEM_ATTR MEM_UNIT work_mem_int[LV_MEM_SIZE / sizeof(MEM_UNIT)];\n",
      "\n",
      "Code context modified on date 2020-08-31 09:33:44 +0200 with this vulnerable line static LV_MEM_ATTR MEM_UNIT work_mem_int[LV_MEM_SIZE / sizeof(MEM_UNIT)];\n",
      "\n",
      "Code context modified on date 2020-11-25 12:21:22 -0500 with this vulnerable line static LV_MEM_ATTR MEM_UNIT work_mem_int[LV_MEM_SIZE / sizeof(MEM_UNIT)];\n",
      "\n",
      "Code context modified on date 2020-12-11 18:04:23 +0100 with this vulnerable line static LV_MEM_ATTR MEM_UNIT work_mem_int[LV_MEM_SIZE / sizeof(MEM_UNIT)];\n",
      "\n",
      "Code context modified on date 2021-01-11 14:28:00 +0100 with this vulnerable line static LV_MEM_ATTR MEM_UNIT work_mem_int[LV_MEM_SIZE / sizeof(MEM_UNIT)];\n",
      "\n",
      "Code context modified on date 2021-01-12 19:26:26 +0100 with this vulnerable line static LV_MEM_ATTR MEM_UNIT work_mem_int[LV_MEM_SIZE / sizeof(MEM_UNIT)];\n",
      "\n",
      "Code context modified on date 2021-01-21 15:18:20 +0100 with this vulnerable line static LV_MEM_ATTR MEM_UNIT work_mem_int[LV_MEM_SIZE / sizeof(MEM_UNIT)];\n",
      "\n",
      "Code context modified on date 2021-01-23 20:46:42 +0100 with this vulnerable line static LV_MEM_ATTR MEM_UNIT work_mem_int[LV_MEM_SIZE / sizeof(MEM_UNIT)];\n",
      "\n",
      "Code context modified on date 2021-01-26 14:12:35 +0100 with this vulnerable line static LV_MEM_ATTR MEM_UNIT work_mem_int[LV_MEM_SIZE / sizeof(MEM_UNIT)];\n",
      "\n",
      "Code context modified on date 2021-02-04 14:46:11 +0100 with this vulnerable line static LV_ATTRIBUTE_LARGE_RAM_ARRAY MEM_UNIT work_mem_int[LV_MEM_SIZE / sizeof(MEM_UNIT)];\n",
      "\n",
      "Code context modified on date 2021-02-19 13:56:59 +0100 with this vulnerable line static LV_MEM_ATTR MEM_UNIT work_mem_int[LV_MEM_SIZE / sizeof(MEM_UNIT)];\n",
      "\n",
      "Code context modified on date 2021-02-24 10:07:54 +0100 with this vulnerable line static LV_ATTRIBUTE_LARGE_RAM_ARRAY MEM_UNIT work_mem_int[LV_MEM_SIZE / sizeof(MEM_UNIT)];\n",
      "\n",
      "The vulnerability has been removed on date 2021-03-10 15:13:35 +0100\n",
      "\n"
     ]
    }
   ],
   "source": [
    "checkGHCodeSnippetHistory(0, c_histories, folder)"
   ]
  },
  {
   "cell_type": "code",
   "execution_count": 32,
   "metadata": {},
   "outputs": [
    {
     "name": "stdout",
     "output_type": "stream",
     "text": [
      "Analyze repository xbmc/xbmc\n",
      "\n",
      "Analyze history for lib/nosefart/src/memguard.c\n",
      "Code context modified on date 2009-09-23 01:49:50 +0000 with this vulnerable line int i;\n",
      "\n"
     ]
    }
   ],
   "source": [
    "checkGHCodeSnippetHistory(1, c_histories, folder)"
   ]
  },
  {
   "cell_type": "markdown",
   "metadata": {},
   "source": [
    "# C++"
   ]
  },
  {
   "cell_type": "code",
   "execution_count": 3,
   "metadata": {},
   "outputs": [
    {
     "data": {
      "text/plain": [
       "16"
      ]
     },
     "execution_count": 3,
     "metadata": {},
     "output_type": "execute_result"
    }
   ],
   "source": [
    "chdir(ROOT_PATH)\n",
    "folder = 'GHCodeSnippetHistory_CPP' \n",
    "cpp_histories = os.listdir(folder)\n",
    "len(cpp_histories)"
   ]
  },
  {
   "cell_type": "code",
   "execution_count": 14,
   "metadata": {},
   "outputs": [
    {
     "name": "stdout",
     "output_type": "stream",
     "text": [
      "Analyze repository arendst/tasmota\n",
      "\n",
      "Analyze history for lib\\LiquidCrystal_I2C-1.1.3\\LiquidCrystal_I2C.cpp\n",
      "Code context modified on date 2018-10-26 17:13:17 +0200 with this vulnerable line LiquidCrystal_I2C::LiquidCrystal_I2C(uint8_t lcd_Addr,uint8_t lcd_cols,uint8_t lcd_rows)\n",
      "\n",
      "Analyze history for lib\\Adafruit_SGP30-1.0.3\\Adafruit_SGP30.cpp\n",
      "Code context modified on date 2018-03-31 16:26:00 +0200 with this vulnerable line Adafruit_SGP30::Adafruit_SGP30() {\n",
      "\n",
      "The vulnerability has been removed on date 2020-05-23 22:28:42 +0100\n",
      "\n"
     ]
    }
   ],
   "source": [
    "checkGHCodeSnippetHistory(0, cpp_histories, folder)"
   ]
  },
  {
   "cell_type": "code",
   "execution_count": 16,
   "metadata": {},
   "outputs": [
    {
     "name": "stdout",
     "output_type": "stream",
     "text": [
      "Analyze repository aria2/aria2\n",
      "\n",
      "Analyze history for deps/wslay/examples/echoserv.cc\n",
      "Code context modified on date 2012-03-21 00:46:16 +0900 with this vulnerable line HttpHandshakeRecvHandler(int fd)\n",
      "\n",
      "Code context modified on date 2021-08-13 00:00:29 +0900 with this vulnerable line HttpHandshakeRecvHandler(int fd) : fd_(fd) {}\n",
      "\n"
     ]
    }
   ],
   "source": [
    "checkGHCodeSnippetHistory(1, cpp_histories, folder)"
   ]
  },
  {
   "cell_type": "code",
   "execution_count": 18,
   "metadata": {},
   "outputs": [
    {
     "name": "stdout",
     "output_type": "stream",
     "text": [
      "Analyze repository aseprite/aseprite\n",
      "\n",
      "Analyze history for src/doc/algorithm/rotate.cpp\n",
      "Code context modified on date 2014-10-20 22:21:31 -0300 with this vulnerable line m_blender = rgba_blenders[BLEND_MODE_NORMAL];\n",
      "\n",
      "Code context modified on date 2015-06-13 21:29:16 -0300 with this vulnerable line m_mask_color = mask_color;\n",
      "\n"
     ]
    }
   ],
   "source": [
    "checkGHCodeSnippetHistory(2, cpp_histories, folder)"
   ]
  },
  {
   "cell_type": "code",
   "execution_count": 37,
   "metadata": {},
   "outputs": [
    {
     "name": "stdout",
     "output_type": "stream",
     "text": [
      "Analyze repository bitcoin/bitcoin\n",
      "\n",
      "Analyze history for src/qt/guiutil.h\n",
      "Code context modified on date 2020-11-25 16:12:23 +0200 with a reference to vulnerable Stack Overflow post\n",
      "\n",
      "The reference to vulnerable Stack Overflow post has been removed on date 2022-04-16 19:18:54 +0200\n",
      "\n"
     ]
    }
   ],
   "source": [
    "checkGHCodeSnippetHistory(3, cpp_histories, folder)"
   ]
  },
  {
   "cell_type": "code",
   "execution_count": 39,
   "metadata": {},
   "outputs": [
    {
     "name": "stdout",
     "output_type": "stream",
     "text": [
      "Analyze repository chenshuo/muduo\n",
      "\n",
      "Analyze history for examples/hub/hub.cc\n",
      "Code context modified on date 2011-05-27 22:40:34 +0800 with this vulnerable line Topic(const string& topic)\n",
      "\n"
     ]
    }
   ],
   "source": [
    "checkGHCodeSnippetHistory(4, cpp_histories, folder)"
   ]
  },
  {
   "cell_type": "code",
   "execution_count": 41,
   "metadata": {},
   "outputs": [
    {
     "name": "stdout",
     "output_type": "stream",
     "text": [
      "Analyze repository davisking/dlib\n",
      "\n",
      "Analyze history for dlib/test/bridge.cpp\n",
      "Code context modified on date 2011-05-14 14:48:50 +0000 with this vulnerable line void perform_test (\n",
      "\n",
      "Code context modified on date 2011-05-14 17:06:18 +0000 with this vulnerable line void perform_test (\n",
      "\n",
      "Analyze history for dlib/test/filtering.cpp\n",
      "Code context modified on date 2012-03-10 18:50:34 -0500 with this vulnerable line void perform_test (\n",
      "\n",
      "Analyze history for dlib/test/iosockstream.cpp\n",
      "Code context modified on date 2012-11-17 16:19:44 -0500 with this vulnerable line void perform_test (\n",
      "\n",
      "Analyze history for dlib/test/parse.cpp\n",
      "Code context modified on date 2012-11-12 12:59:04 -0500 with this vulnerable line void perform_test (\n",
      "\n",
      "Analyze history for dlib/test/base64.cpp\n",
      "Code context modified on date 2011-04-18 18:22:33 +0000 with this vulnerable line void perform_test (\n",
      "\n",
      "Analyze history for dlib/test/pipe.cpp\n",
      "Code context modified on date 2013-02-01 19:32:56 -0500 with this vulnerable line void perform_test (\n",
      "\n",
      "Analyze history for dlib/test/rls.cpp\n",
      "Code context modified on date 2012-02-22 19:52:46 -0500 with this vulnerable line void perform_test (\n",
      "\n",
      "Analyze history for dlib/test/bayes_nets.cpp\n",
      "Code context modified on date 2008-05-02 14:19:38 +0000 with this vulnerable line void perform_test (\n",
      "\n",
      "Analyze history for dlib/test/md5.cpp\n",
      "Code context modified on date 2008-05-02 14:19:38 +0000 with this vulnerable line void perform_test (\n",
      "\n"
     ]
    }
   ],
   "source": [
    "checkGHCodeSnippetHistory(5, cpp_histories, folder)"
   ]
  },
  {
   "cell_type": "code",
   "execution_count": 43,
   "metadata": {},
   "outputs": [
    {
     "name": "stdout",
     "output_type": "stream",
     "text": [
      "Analyze repository google/filament\n",
      "\n",
      "Analyze history for third_party/libassimp/code/Irr/IRRMeshLoader.cpp\n",
      "Code context modified on date 2018-08-03 10:38:22 -0700 with this vulnerable line IRRMeshImporter::IRRMeshImporter()\n",
      "\n"
     ]
    }
   ],
   "source": [
    "checkGHCodeSnippetHistory(6, cpp_histories, folder)"
   ]
  },
  {
   "cell_type": "code",
   "execution_count": 45,
   "metadata": {},
   "outputs": [
    {
     "name": "stdout",
     "output_type": "stream",
     "text": [
      "Analyze repository google/leveldb\n",
      "\n",
      "Analyze history for table/iterator.cc\n",
      "Code context modified on date 2011-03-18 22:37:00 +0000 with this vulnerable line EmptyIterator(const Status& s) : status_(s) { }\n",
      "\n",
      "Code context modified on date 2019-05-02 19:04:50 -0700 with this vulnerable line EmptyIterator(const Status& s) : status_(s) {}\n",
      "\n"
     ]
    }
   ],
   "source": [
    "checkGHCodeSnippetHistory(7, cpp_histories, folder)"
   ]
  },
  {
   "cell_type": "code",
   "execution_count": 47,
   "metadata": {},
   "outputs": [
    {
     "name": "stdout",
     "output_type": "stream",
     "text": [
      "Analyze repository microsoft/airsim\n",
      "\n",
      "Analyze history for MavLinkCom/src/impl/MavLinkTcpServerImpl.cpp\n",
      "Code context modified on date 2017-02-14 18:14:48 -0800 with this vulnerable line local_address_ = local_addr;\n",
      "\n",
      "Code context modified on date 2017-02-17 22:46:33 -0200 with this vulnerable line local_address_ = local_addr;\n",
      "\n",
      "Code context modified on date 2017-02-18 04:51:58 -0800 with this vulnerable line local_address_ = local_addr;\n",
      "\n",
      "Code context modified on date 2017-03-06 00:19:22 -0800 with this vulnerable line local_address_ = local_addr;\n",
      "\n",
      "Code context modified on date 2021-05-13 17:40:06 -0700 with this vulnerable line local_address_ = local_addr;\n",
      "\n"
     ]
    }
   ],
   "source": [
    "checkGHCodeSnippetHistory(8, cpp_histories, folder)"
   ]
  },
  {
   "cell_type": "code",
   "execution_count": 49,
   "metadata": {},
   "outputs": [
    {
     "name": "stdout",
     "output_type": "stream",
     "text": [
      "Analyze repository opencv/opencv\n",
      "\n",
      "Analyze history for modules/features2d/src/keypoint.cpp\n",
      "Code context modified on date 2011-05-01 17:38:52 +0000 with this vulnerable line RoiPredicate( const Rect& _r ) : r(_r)\n",
      "\n",
      "Code context modified on date 2011-05-05 10:10:46 +0000 with this vulnerable line MaskPredicate( const Mat& _mask ) : mask(_mask) {}\n",
      "\n",
      "Analyze history for modules/features2d/src/evaluation.cpp\n",
      "Code context modified on date 2010-10-04 14:12:36 +0000 with this vulnerable line UsedFinder(const SIdx& _used) : used(_used) {}\n",
      "\n"
     ]
    }
   ],
   "source": [
    "checkGHCodeSnippetHistory(9, cpp_histories, folder)"
   ]
  },
  {
   "cell_type": "code",
   "execution_count": 51,
   "metadata": {},
   "outputs": [
    {
     "name": "stdout",
     "output_type": "stream",
     "text": [
      "Analyze repository ossrs/srs\n",
      "\n",
      "Analyze history for trunk/src/app/srs_app_dvr.cpp\n",
      "Code context modified on date 2019-04-10 08:32:46 +0800 with this vulnerable line cduration = 0;\n",
      "\n",
      "Code context modified on date 2022-01-11 08:40:37 +0800 with this vulnerable line cduration = 0;\n",
      "\n",
      "Analyze history for trunk/src/app/srs_app_edge.cpp\n",
      "Code context modified on date 2015-12-28 17:15:44 +0800 with this vulnerable line sdk = new SrsSimpleRtmpClient();\n",
      "\n",
      "Code context modified on date 2016-01-11 15:46:23 +0800 with this vulnerable line redirect = r;\n",
      "\n",
      "Code context modified on date 2016-01-11 15:46:23 +0800 with this vulnerable line sdk = new SrsSimpleRtmpClient();\n",
      "\n",
      "Code context modified on date 2017-01-17 10:44:13 +0800 with this vulnerable line redirect = r;\n",
      "\n",
      "Code context modified on date 2020-08-21 21:14:18 +0800 with this vulnerable line redirect = r;\n",
      "\n",
      "Code context modified on date 2020-09-14 20:44:47 +0800 with this vulnerable line redirect = r;\n",
      "\n",
      "Code context modified on date 2020-09-14 20:52:11 +0800 with this vulnerable line redirect = r;\n",
      "\n",
      "Code context modified on date 2020-12-26 22:11:23 +0800 with this vulnerable line SrsEdgeRtmpUpstream::SrsEdgeRtmpUpstream(string r)\n",
      "\n",
      "Code context modified on date 2020-12-26 22:11:23 +0800 with this vulnerable line redirect = r;\n",
      "\n",
      "Code context modified on date 2020-12-26 22:15:37 +0800 with this vulnerable line redirect = r;\n",
      "\n",
      "Code context modified on date 2020-12-27 12:55:27 +0800 with this vulnerable line SrsEdgeRtmpUpstream::SrsEdgeRtmpUpstream(string r)\n",
      "\n",
      "Code context modified on date 2020-12-27 12:55:27 +0800 with this vulnerable line redirect = r;\n",
      "\n",
      "Code context modified on date 2020-12-27 12:56:28 +0800 with this vulnerable line redirect = r;\n",
      "\n",
      "Analyze history for trunk/src/utest/srs_utest_http.cpp\n",
      "Code context modified on date 2019-12-17 15:14:59 +0800 with this vulnerable line MockFileReaderFactory(string data) {\n",
      "\n",
      "Code context modified on date 2019-12-17 15:14:59 +0800 with this vulnerable line bytes = data;\n",
      "\n",
      "Code context modified on date 2019-12-17 15:14:59 +0800 with this vulnerable line MockHttpHandler(string data) {\n",
      "\n",
      "Code context modified on date 2019-12-17 15:14:59 +0800 with this vulnerable line bytes = data;\n",
      "\n"
     ]
    }
   ],
   "source": [
    "checkGHCodeSnippetHistory(10, cpp_histories, folder)"
   ]
  },
  {
   "cell_type": "code",
   "execution_count": 54,
   "metadata": {},
   "outputs": [
    {
     "name": "stdout",
     "output_type": "stream",
     "text": [
      "Analyze repository spacehuhntech/esp8266_deauther\n",
      "\n",
      "Analyze history for esp8266_deauther/Settings.cpp\n",
      "Code context modified on date 2017-02-25 14:32:58 +0100 with this vulnerable line Settings::Settings(){\n",
      "\n",
      "Code context modified on date 2017-06-18 15:37:18 +0200 with this vulnerable line Settings::Settings() {\n",
      "\n",
      "Code context modified on date 2018-03-24 18:15:59 +0100 with this vulnerable line macSt = (uint8_t*)malloc(6);\n",
      "\n",
      "Code context modified on date 2018-03-24 18:15:59 +0100 with this vulnerable line macAP = (uint8_t*)malloc(6);\n",
      "\n",
      "The vulnerability has been removed on date 2019-05-14 09:02:37 +0200\n",
      "\n"
     ]
    }
   ],
   "source": [
    "checkGHCodeSnippetHistory(11, cpp_histories, folder)"
   ]
  },
  {
   "cell_type": "code",
   "execution_count": 56,
   "metadata": {},
   "outputs": [
    {
     "name": "stdout",
     "output_type": "stream",
     "text": [
      "Analyze repository sqlitebrowser/sqlitebrowser\n",
      "\n",
      "Analyze history for libs/qhexedit/src/commands.cpp\n",
      "Code context modified on date 2013-03-16 23:36:36 +0100 with this vulnerable line CharCommand::CharCommand(XByteArray * xData, Cmd cmd, int charPos, char newChar, QUndoCommand *parent)\n",
      "\n",
      "Code context modified on date 2016-08-01 18:02:55 +0100 with this vulnerable line CharCommand::CharCommand(Chunks * chunks, CCmd cmd, qint64 charPos, char newChar, QUndoCommand *parent)\n",
      "\n",
      "Code context modified on date 2016-08-01 18:02:55 +0100 with this vulnerable line _charPos = charPos;\n",
      "\n",
      "Code context modified on date 2013-03-16 23:36:36 +0100 with this vulnerable line _newBa = newBa;\n",
      "\n",
      "The vulnerability has been removed on date 2016-08-01 18:02:55 +0100\n",
      "\n"
     ]
    }
   ],
   "source": [
    "checkGHCodeSnippetHistory(12, cpp_histories, folder)"
   ]
  },
  {
   "cell_type": "code",
   "execution_count": 60,
   "metadata": {},
   "outputs": [
    {
     "name": "stdout",
     "output_type": "stream",
     "text": [
      "Analyze repository taosdata/tdengine\n",
      "\n",
      "Analyze history for source/libs/parser/test/parInsertTest.cpp\n",
      "Code context modified on date 2022-06-13 18:36:23 +0800 with this vulnerable line InsertTest() : res_(nullptr) {}\n",
      "\n",
      "The vulnerability has been removed on date 2022-08-15 14:45:59 +0800\n",
      "\n"
     ]
    }
   ],
   "source": [
    "checkGHCodeSnippetHistory(13, cpp_histories, folder)"
   ]
  },
  {
   "cell_type": "code",
   "execution_count": 68,
   "metadata": {},
   "outputs": [
    {
     "name": "stdout",
     "output_type": "stream",
     "text": [
      "Analyze repository tensorflow/tensorflow\n",
      "\n",
      "Analyze history for tensorflow/core/framework/variant_op_registry.h\n",
      "Code context modified on date 2018-01-23 15:13:14 -0800 with a reference to vulnerable Stack Overflow post\n",
      "\n",
      "Code context modified on date 2018-09-11 10:51:01 -0700 with a reference to vulnerable Stack Overflow post\n",
      "\n",
      "Code context modified on date 2018-10-15 11:01:32 -0700 with a reference to vulnerable Stack Overflow post\n",
      "\n",
      "Code context modified on date 2018-10-15 11:22:32 -0700 with a reference to vulnerable Stack Overflow post\n",
      "\n"
     ]
    }
   ],
   "source": [
    "checkGHCodeSnippetHistory(14, cpp_histories, folder)"
   ]
  },
  {
   "cell_type": "code",
   "execution_count": 70,
   "metadata": {},
   "outputs": [
    {
     "name": "stdout",
     "output_type": "stream",
     "text": [
      "Analyze repository xbmc/xbmc\n",
      "\n",
      "Analyze history for xbmc/utils/Splash.cpp\n",
      "Code context modified on date 2009-09-23 01:49:50 +0000 with this vulnerable line m_ImageName = imageName;\n",
      "\n",
      "Code context modified on date 2009-09-23 01:49:50 +0000 with this vulnerable line m_ImageName = imageName;\n",
      "\n",
      "Code context modified on date 2013-02-09 18:34:26 +0100 with this vulnerable line m_ImageName = imageName;\n",
      "\n",
      "The vulnerability has been removed on date 2014-06-10 12:21:12 +0200\n",
      "\n",
      "Analyze history for xbmc/cores/paplayer/AudioDecoder.cpp\n",
      "Code context modified on date 2009-09-23 01:49:50 +0000 with this vulnerable line CAudioDecoder::CAudioDecoder()\n",
      "\n",
      "Code context modified on date 2012-05-10 09:40:54 +1200 with this vulnerable line CAudioDecoder::CAudioDecoder()\n",
      "\n",
      "The vulnerability has been removed on date 2013-04-05 10:32:54 +0200\n",
      "\n",
      "Code context modified on date 2016-03-06 15:51:59 +0100 with this vulnerable line CAudioDecoder::CAudioDecoder()\n",
      "\n",
      "The vulnerability has been removed on date 2017-11-20 15:25:58 +0100\n",
      "\n"
     ]
    }
   ],
   "source": [
    "checkGHCodeSnippetHistory(15, cpp_histories, folder)"
   ]
  },
  {
   "cell_type": "code",
   "execution_count": null,
   "metadata": {},
   "outputs": [],
   "source": []
  }
 ],
 "metadata": {
  "kernelspec": {
   "display_name": "Python 3 (ipykernel)",
   "language": "python",
   "name": "python3"
  },
  "language_info": {
   "codemirror_mode": {
    "name": "ipython",
    "version": 3
   },
   "file_extension": ".py",
   "mimetype": "text/x-python",
   "name": "python",
   "nbconvert_exporter": "python",
   "pygments_lexer": "ipython3",
   "version": "3.7.6"
  }
 },
 "nbformat": 4,
 "nbformat_minor": 4
}
