{
 "cells": [
  {
   "cell_type": "code",
   "execution_count": 1,
   "metadata": {},
   "outputs": [
    {
     "name": "stderr",
     "output_type": "stream",
     "text": [
      "C:\\Users\\Grazia\\anaconda3\\lib\\site-packages\\requests\\__init__.py:91: RequestsDependencyWarning: urllib3 (1.25.8) or chardet (5.1.0) doesn't match a supported version!\n",
      "  RequestsDependencyWarning)\n"
     ]
    }
   ],
   "source": [
    "import pandas as pd\n",
    "import subprocess\n",
    "import json\n",
    "import requests\n",
    "import os\n",
    "import git\n",
    "import shutil\n",
    "from tqdm.auto import tqdm\n",
    "from subprocess import Popen, PIPE, STDOUT\n",
    "import xml.etree.ElementTree as ET\n",
    "from guesslang import Guess\n",
    "import pickle"
   ]
  },
  {
   "cell_type": "code",
   "execution_count": 2,
   "metadata": {},
   "outputs": [],
   "source": [
    "repositories_final = pd.read_csv(\"../Repositories/repositories_final.csv\")"
   ]
  },
  {
   "cell_type": "code",
   "execution_count": 5,
   "metadata": {},
   "outputs": [],
   "source": [
    "posts = pd.read_csv(\"../1-Vulnerability_Detection/Results/results_static_analysis_v2.csv\")\n",
    "posts = posts.fillna('')"
   ]
  },
  {
   "cell_type": "code",
   "execution_count": 6,
   "metadata": {},
   "outputs": [],
   "source": [
    "posts_vulnerable = posts.loc[posts['severity']!='']"
   ]
  },
  {
   "cell_type": "code",
   "execution_count": 7,
   "metadata": {},
   "outputs": [],
   "source": [
    "files = pd.unique(posts_vulnerable['file'])"
   ]
  },
  {
   "cell_type": "code",
   "execution_count": 8,
   "metadata": {},
   "outputs": [
    {
     "data": {
      "text/plain": [
       "128227"
      ]
     },
     "execution_count": 8,
     "metadata": {},
     "output_type": "execute_result"
    }
   ],
   "source": [
    "len(files)"
   ]
  },
  {
   "cell_type": "code",
   "execution_count": 13,
   "metadata": {},
   "outputs": [
    {
     "data": {
      "application/vnd.jupyter.widget-view+json": {
       "model_id": "d261f05cffeb4636b9a3651fa0c42e48",
       "version_major": 2,
       "version_minor": 0
      },
      "text/plain": [
       "HBox(children=(FloatProgress(value=0.0, max=128227.0), HTML(value='')))"
      ]
     },
     "metadata": {},
     "output_type": "display_data"
    },
    {
     "name": "stdout",
     "output_type": "stream",
     "text": [
      "\n"
     ]
    }
   ],
   "source": [
    "guess = Guess()\n",
    "\n",
    "for file in tqdm(files):\n",
    "    name_to_save = file.split('.')[0]\n",
    "    text_file = open('../1-Vulnerability_Detection/code_static_analysis/'+file, \"r\", encoding='utf-8')\n",
    "    data = text_file.read()\n",
    "    name = guess.language_name(data)\n",
    "        \n",
    "    if(name==\"C\"):\n",
    "        shutil.copy('../1-Vulnerability_Detection/code_static_analysis/'+file, 'to_check/'+name_to_save+\".c\")"
   ]
  },
  {
   "cell_type": "code",
   "execution_count": 14,
   "metadata": {},
   "outputs": [
    {
     "data": {
      "text/html": [
       "<div>\n",
       "<style scoped>\n",
       "    .dataframe tbody tr th:only-of-type {\n",
       "        vertical-align: middle;\n",
       "    }\n",
       "\n",
       "    .dataframe tbody tr th {\n",
       "        vertical-align: top;\n",
       "    }\n",
       "\n",
       "    .dataframe thead th {\n",
       "        text-align: right;\n",
       "    }\n",
       "</style>\n",
       "<table border=\"1\" class=\"dataframe\">\n",
       "  <thead>\n",
       "    <tr style=\"text-align: right;\">\n",
       "      <th></th>\n",
       "      <th>name</th>\n",
       "    </tr>\n",
       "  </thead>\n",
       "  <tbody>\n",
       "    <tr>\n",
       "      <th>0</th>\n",
       "      <td>google/brotli</td>\n",
       "    </tr>\n",
       "    <tr>\n",
       "      <th>1</th>\n",
       "      <td>gentilkiwi/mimikatz</td>\n",
       "    </tr>\n",
       "    <tr>\n",
       "      <th>2</th>\n",
       "      <td>octalmage/robotjs</td>\n",
       "    </tr>\n",
       "    <tr>\n",
       "      <th>3</th>\n",
       "      <td>openresty/openresty</td>\n",
       "    </tr>\n",
       "    <tr>\n",
       "      <th>4</th>\n",
       "      <td>jedisct1/libsodium</td>\n",
       "    </tr>\n",
       "    <tr>\n",
       "      <th>...</th>\n",
       "      <td>...</td>\n",
       "    </tr>\n",
       "    <tr>\n",
       "      <th>128</th>\n",
       "      <td>notepad-plus-plus/notepad-plus-plus</td>\n",
       "    </tr>\n",
       "    <tr>\n",
       "      <th>129</th>\n",
       "      <td>apple/swift</td>\n",
       "    </tr>\n",
       "    <tr>\n",
       "      <th>130</th>\n",
       "      <td>pytorch/pytorch</td>\n",
       "    </tr>\n",
       "    <tr>\n",
       "      <th>131</th>\n",
       "      <td>onnx/onnx</td>\n",
       "    </tr>\n",
       "    <tr>\n",
       "      <th>132</th>\n",
       "      <td>fish-shell/fish-shell</td>\n",
       "    </tr>\n",
       "  </tbody>\n",
       "</table>\n",
       "<p>133 rows × 1 columns</p>\n",
       "</div>"
      ],
      "text/plain": [
       "                                    name\n",
       "0                          google/brotli\n",
       "1                    gentilkiwi/mimikatz\n",
       "2                      octalmage/robotjs\n",
       "3                    openresty/openresty\n",
       "4                     jedisct1/libsodium\n",
       "..                                   ...\n",
       "128  notepad-plus-plus/notepad-plus-plus\n",
       "129                          apple/swift\n",
       "130                      pytorch/pytorch\n",
       "131                            onnx/onnx\n",
       "132                fish-shell/fish-shell\n",
       "\n",
       "[133 rows x 1 columns]"
      ]
     },
     "execution_count": 14,
     "metadata": {},
     "output_type": "execute_result"
    }
   ],
   "source": [
    "repositories_final"
   ]
  },
  {
   "cell_type": "code",
   "execution_count": 27,
   "metadata": {},
   "source": [
    "with_clone = dict()\n",
    "idx = 0\n",
    "i = 133\n",
    "\n",
    "name_repo = repositories_final['name'][i]\n",
    "print(name_repo)\n",
    "proc = subprocess.run([\"curl\", \"https://api.github.com/repos/\"+name_repo+\"/tags\"], capture_output=True)\n",
    "hash_tags = []\n",
    "json_file = json.loads(proc.stdout.decode('utf-8'))\n",
    "\n",
    "for entry in json_file:\n",
    "    hash_tags.append(entry['commit']['sha']) \n",
    "folder = name_repo.split('/')[-1]\n",
    "repo = git.Repo.clone_from('https://github.com/'+name_repo+'.git', folder, no_checkout=True)   \n",
    "\n",
    "for release in hash_tags:\n",
    "    repo.git.checkout(release)\n",
    "\n",
    "    print(\"Execute nicad for each file for release \"+release)\n",
    "    \n",
    "    p = Popen(['C:/cygwin64/bin/bash.exe', '-c', '. /etc/profile; '+\n",
    "   'nicad6cross functions c C:/Users/Grazia/Desktop/Tesi/StackOverflow_Vulnerabilities/2-Vulnerabilty_Propagation/to_check '+ \n",
    "               'C:/Users/Grazia/Desktop/Tesi/StackOverflow_Vulnerabilities/2-Vulnerabilty_Propagation/'+folder], \n",
    "      stdout=PIPE, stderr=STDOUT)\n",
    "    p.communicate()[0]\n",
    "\n",
    "    if os.path.exists('to_check_functions-blind-crossclones/to_check_functions-blind-crossclones-0.30.xml'):\n",
    "        tree = ET.parse('to_check_functions-blind-crossclones/to_check_functions-blind-crossclones-0.30.xml')\n",
    "        root = tree.getroot()\n",
    "        lista = []\n",
    "        for clones in root.findall('clone'):\n",
    "            for source in clones:\n",
    "                lista.append(source.attrib['file'])\n",
    "        \n",
    "        if len(root.findall('clone'))>0:\n",
    "            with_clone[idx] = {'repo': folder, 'files': set(lista), 'release': release}\n",
    "            idx = idx+1\n",
    "\n",
    "        shutil.rmtree('to_check_functions-blind-crossclones')\n",
    "        all_files = os.listdir()\n",
    "\n",
    "        for item in all_files:\n",
    "            if item.endswith(\".log\"):\n",
    "                os.remove(item)\n",
    "\n",
    "    all_files = os.listdir()\n",
    "    for item in all_files:\n",
    "        if item.startswith(folder) and item.endswith('.xml'):\n",
    "            os.remove(item)\n",
    "os.system('rmdir /S /Q \"{}\"'.format(folder))\n",
    "print(\"Done for \"+folder)"
   ]
  },
  {
   "cell_type": "code",
   "execution_count": 24,
   "metadata": {
    "scrolled": true
   },
   "outputs": [
    {
     "data": {
      "text/plain": [
       "{0: {'repo': 'fish-shell',\n",
       "  'files': {'C:/Users/Grazia/Desktop/Tesi/StackOverflow_Vulnerabilities/2-Vulnerabilty_Propagation/fish-shell/event.c',\n",
       "   'C:/Users/Grazia/Desktop/Tesi/StackOverflow_Vulnerabilities/2-Vulnerabilty_Propagation/fish-shell/history.c',\n",
       "   'C:/Users/Grazia/Desktop/Tesi/StackOverflow_Vulnerabilities/2-Vulnerabilty_Propagation/fish-shell/input_common.c',\n",
       "   'C:/Users/Grazia/Desktop/Tesi/StackOverflow_Vulnerabilities/2-Vulnerabilty_Propagation/fish-shell/kill.c',\n",
       "   'C:/Users/Grazia/Desktop/Tesi/StackOverflow_Vulnerabilities/2-Vulnerabilty_Propagation/fish-shell/reader.c',\n",
       "   'C:/Users/Grazia/Desktop/Tesi/StackOverflow_Vulnerabilities/2-Vulnerabilty_Propagation/fish-shell/sanity.c',\n",
       "   'C:/Users/Grazia/Desktop/Tesi/StackOverflow_Vulnerabilities/2-Vulnerabilty_Propagation/fish-shell/wutil.c',\n",
       "   'C:/Users/Grazia/Desktop/Tesi/StackOverflow_Vulnerabilities/2-Vulnerabilty_Propagation/fish-shell/xdgmime.c',\n",
       "   'C:/Users/Grazia/Desktop/Tesi/StackOverflow_Vulnerabilities/2-Vulnerabilty_Propagation/to_check/12565.c',\n",
       "   'C:/Users/Grazia/Desktop/Tesi/StackOverflow_Vulnerabilities/2-Vulnerabilty_Propagation/to_check/130541.c',\n",
       "   'C:/Users/Grazia/Desktop/Tesi/StackOverflow_Vulnerabilities/2-Vulnerabilty_Propagation/to_check/139860.c',\n",
       "   'C:/Users/Grazia/Desktop/Tesi/StackOverflow_Vulnerabilities/2-Vulnerabilty_Propagation/to_check/140980.c'},\n",
       "  'release': '71bff26607637d88b20e0d406e7081e277ed3863'},\n",
       " 1: {'repo': 'fish-shell',\n",
       "  'files': {'C:/Users/Grazia/Desktop/Tesi/StackOverflow_Vulnerabilities/2-Vulnerabilty_Propagation/fish-shell/event.c',\n",
       "   'C:/Users/Grazia/Desktop/Tesi/StackOverflow_Vulnerabilities/2-Vulnerabilty_Propagation/fish-shell/history.c',\n",
       "   'C:/Users/Grazia/Desktop/Tesi/StackOverflow_Vulnerabilities/2-Vulnerabilty_Propagation/fish-shell/input_common.c',\n",
       "   'C:/Users/Grazia/Desktop/Tesi/StackOverflow_Vulnerabilities/2-Vulnerabilty_Propagation/fish-shell/kill.c',\n",
       "   'C:/Users/Grazia/Desktop/Tesi/StackOverflow_Vulnerabilities/2-Vulnerabilty_Propagation/fish-shell/reader.c',\n",
       "   'C:/Users/Grazia/Desktop/Tesi/StackOverflow_Vulnerabilities/2-Vulnerabilty_Propagation/fish-shell/sanity.c',\n",
       "   'C:/Users/Grazia/Desktop/Tesi/StackOverflow_Vulnerabilities/2-Vulnerabilty_Propagation/fish-shell/wutil.c',\n",
       "   'C:/Users/Grazia/Desktop/Tesi/StackOverflow_Vulnerabilities/2-Vulnerabilty_Propagation/fish-shell/xdgmime.c',\n",
       "   'C:/Users/Grazia/Desktop/Tesi/StackOverflow_Vulnerabilities/2-Vulnerabilty_Propagation/to_check/12565.c',\n",
       "   'C:/Users/Grazia/Desktop/Tesi/StackOverflow_Vulnerabilities/2-Vulnerabilty_Propagation/to_check/130541.c',\n",
       "   'C:/Users/Grazia/Desktop/Tesi/StackOverflow_Vulnerabilities/2-Vulnerabilty_Propagation/to_check/139860.c',\n",
       "   'C:/Users/Grazia/Desktop/Tesi/StackOverflow_Vulnerabilities/2-Vulnerabilty_Propagation/to_check/140980.c'},\n",
       "  'release': '1eb089d722f1b873f1db6a23da1d14fe94b50050'}}"
      ]
     },
     "execution_count": 24,
     "metadata": {},
     "output_type": "execute_result"
    }
   ],
   "source": [
    "with_clone"
   ]
  },
  {
   "cell_type": "code",
   "execution_count": 25,
   "metadata": {},
   "outputs": [
    {
     "data": {
      "text/plain": [
       "'fish-shell_fish-shell'"
      ]
     },
     "execution_count": 25,
     "metadata": {},
     "output_type": "execute_result"
    }
   ],
   "source": [
    "name = repositories_final['name'][i].replace('/','_')\n",
    "name"
   ]
  },
  {
   "cell_type": "code",
   "execution_count": 26,
   "metadata": {},
   "outputs": [],
   "source": [
    "if with_clone:\n",
    "    with open('dicts_c/'+name+\".pkl\", 'wb') as f:\n",
    "        pickle.dump(with_clone, f)"
   ]
  },
  {
   "cell_type": "code",
   "execution_count": null,
   "metadata": {},
   "outputs": [],
   "source": []
  },
  {
   "cell_type": "code",
   "execution_count": null,
   "metadata": {},
   "outputs": [],
   "source": []
  }
 ],
 "metadata": {
  "kernelspec": {
   "display_name": "Python 3 (ipykernel)",
   "language": "python",
   "name": "python3"
  },
  "language_info": {
   "codemirror_mode": {
    "name": "ipython",
    "version": 3
   },
   "file_extension": ".py",
   "mimetype": "text/x-python",
   "name": "python",
   "nbconvert_exporter": "python",
   "pygments_lexer": "ipython3",
   "version": "3.7.6"
  }
 },
 "nbformat": 4,
 "nbformat_minor": 4
}
