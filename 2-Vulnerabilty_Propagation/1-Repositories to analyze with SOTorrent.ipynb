{
 "cells": [
  {
   "cell_type": "code",
   "execution_count": 1,
   "metadata": {},
   "outputs": [
    {
     "name": "stderr",
     "output_type": "stream",
     "text": [
      "C:\\Users\\Grazia\\anaconda3\\lib\\site-packages\\requests\\__init__.py:91: RequestsDependencyWarning: urllib3 (1.25.8) or chardet (5.1.0) doesn't match a supported version!\n",
      "  RequestsDependencyWarning)\n"
     ]
    }
   ],
   "source": [
    "import pandas as pd\n",
    "import bq_helper\n",
    "from bq_helper import BigQueryHelper\n",
    "from tqdm.auto import tqdm"
   ]
  },
  {
   "cell_type": "code",
   "execution_count": 2,
   "metadata": {},
   "outputs": [],
   "source": [
    "def chunks(lst, n):\n",
    "    \"\"\"Yield successive n-sized chunks from lst.\"\"\"\n",
    "    for i in range(0, len(lst), n):\n",
    "        yield lst[i:i + n]"
   ]
  },
  {
   "cell_type": "markdown",
   "metadata": {},
   "source": [
    "## Repositories with criterias estabilished at first"
   ]
  },
  {
   "cell_type": "code",
   "execution_count": 3,
   "metadata": {},
   "outputs": [],
   "source": [
    "repositories_final = pd.read_csv(\"../Repositories/repositories_final.csv\")"
   ]
  },
  {
   "cell_type": "code",
   "execution_count": 4,
   "metadata": {},
   "outputs": [
    {
     "data": {
      "text/html": [
       "<div>\n",
       "<style scoped>\n",
       "    .dataframe tbody tr th:only-of-type {\n",
       "        vertical-align: middle;\n",
       "    }\n",
       "\n",
       "    .dataframe tbody tr th {\n",
       "        vertical-align: top;\n",
       "    }\n",
       "\n",
       "    .dataframe thead th {\n",
       "        text-align: right;\n",
       "    }\n",
       "</style>\n",
       "<table border=\"1\" class=\"dataframe\">\n",
       "  <thead>\n",
       "    <tr style=\"text-align: right;\">\n",
       "      <th></th>\n",
       "      <th>name</th>\n",
       "    </tr>\n",
       "  </thead>\n",
       "  <tbody>\n",
       "    <tr>\n",
       "      <th>0</th>\n",
       "      <td>google/brotli</td>\n",
       "    </tr>\n",
       "    <tr>\n",
       "      <th>1</th>\n",
       "      <td>gentilkiwi/mimikatz</td>\n",
       "    </tr>\n",
       "    <tr>\n",
       "      <th>2</th>\n",
       "      <td>octalmage/robotjs</td>\n",
       "    </tr>\n",
       "    <tr>\n",
       "      <th>3</th>\n",
       "      <td>openresty/openresty</td>\n",
       "    </tr>\n",
       "    <tr>\n",
       "      <th>4</th>\n",
       "      <td>jedisct1/libsodium</td>\n",
       "    </tr>\n",
       "    <tr>\n",
       "      <th>...</th>\n",
       "      <td>...</td>\n",
       "    </tr>\n",
       "    <tr>\n",
       "      <th>128</th>\n",
       "      <td>notepad-plus-plus/notepad-plus-plus</td>\n",
       "    </tr>\n",
       "    <tr>\n",
       "      <th>129</th>\n",
       "      <td>apple/swift</td>\n",
       "    </tr>\n",
       "    <tr>\n",
       "      <th>130</th>\n",
       "      <td>pytorch/pytorch</td>\n",
       "    </tr>\n",
       "    <tr>\n",
       "      <th>131</th>\n",
       "      <td>onnx/onnx</td>\n",
       "    </tr>\n",
       "    <tr>\n",
       "      <th>132</th>\n",
       "      <td>fish-shell/fish-shell</td>\n",
       "    </tr>\n",
       "  </tbody>\n",
       "</table>\n",
       "<p>133 rows × 1 columns</p>\n",
       "</div>"
      ],
      "text/plain": [
       "                                    name\n",
       "0                          google/brotli\n",
       "1                    gentilkiwi/mimikatz\n",
       "2                      octalmage/robotjs\n",
       "3                    openresty/openresty\n",
       "4                     jedisct1/libsodium\n",
       "..                                   ...\n",
       "128  notepad-plus-plus/notepad-plus-plus\n",
       "129                          apple/swift\n",
       "130                      pytorch/pytorch\n",
       "131                            onnx/onnx\n",
       "132                fish-shell/fish-shell\n",
       "\n",
       "[133 rows x 1 columns]"
      ]
     },
     "execution_count": 4,
     "metadata": {},
     "output_type": "execute_result"
    }
   ],
   "source": [
    "repositories_final"
   ]
  },
  {
   "cell_type": "code",
   "execution_count": 7,
   "metadata": {},
   "outputs": [],
   "source": [
    "posts = pd.read_csv(\"../1-Vulnerability_Detection/Results/results_static_analysis_v2.csv\")\n",
    "posts = posts.fillna('')"
   ]
  },
  {
   "cell_type": "code",
   "execution_count": 8,
   "metadata": {},
   "outputs": [
    {
     "data": {
      "text/html": [
       "<div>\n",
       "<style scoped>\n",
       "    .dataframe tbody tr th:only-of-type {\n",
       "        vertical-align: middle;\n",
       "    }\n",
       "\n",
       "    .dataframe tbody tr th {\n",
       "        vertical-align: top;\n",
       "    }\n",
       "\n",
       "    .dataframe thead th {\n",
       "        text-align: right;\n",
       "    }\n",
       "</style>\n",
       "<table border=\"1\" class=\"dataframe\">\n",
       "  <thead>\n",
       "    <tr style=\"text-align: right;\">\n",
       "      <th></th>\n",
       "      <th>id_post</th>\n",
       "      <th>cwe</th>\n",
       "      <th>file</th>\n",
       "      <th>line</th>\n",
       "      <th>severity</th>\n",
       "      <th>code</th>\n",
       "      <th>message</th>\n",
       "    </tr>\n",
       "  </thead>\n",
       "  <tbody>\n",
       "    <tr>\n",
       "      <th>0</th>\n",
       "      <td>30877241</td>\n",
       "      <td>398</td>\n",
       "      <td>0.cpp</td>\n",
       "      <td>3</td>\n",
       "      <td>style</td>\n",
       "      <td>struct dirent *dir;                 ^</td>\n",
       "      <td>The scope of the variable 'dir' can be reduced.</td>\n",
       "    </tr>\n",
       "    <tr>\n",
       "      <th>1</th>\n",
       "      <td>40233070</td>\n",
       "      <td>0</td>\n",
       "      <td>1.cpp</td>\n",
       "      <td>27</td>\n",
       "      <td>warning</td>\n",
       "      <td>char *buf = alloca(*bufsize + 128);       ...</td>\n",
       "      <td>Obsolete function 'alloca' called.</td>\n",
       "    </tr>\n",
       "    <tr>\n",
       "      <th>2</th>\n",
       "      <td>40233070</td>\n",
       "      <td>0</td>\n",
       "      <td>1.cpp</td>\n",
       "      <td>46</td>\n",
       "      <td>warning</td>\n",
       "      <td>char *claim_the_space = alloca(bufsize + 2...</td>\n",
       "      <td>Obsolete function 'alloca' called.</td>\n",
       "    </tr>\n",
       "    <tr>\n",
       "      <th>3</th>\n",
       "      <td>20898874</td>\n",
       "      <td>398</td>\n",
       "      <td>10.cpp</td>\n",
       "      <td>11</td>\n",
       "      <td>style</td>\n",
       "      <td>data = (struct snail_thread *) ptr;       ...</td>\n",
       "      <td>C-style pointer casting</td>\n",
       "    </tr>\n",
       "    <tr>\n",
       "      <th>4</th>\n",
       "      <td>29069387</td>\n",
       "      <td>758</td>\n",
       "      <td>100.cpp</td>\n",
       "      <td>60</td>\n",
       "      <td>error</td>\n",
       "      <td>os&lt;&lt;input.display(&amp;os);        ^</td>\n",
       "      <td>Found a exit path from function with non-void ...</td>\n",
       "    </tr>\n",
       "    <tr>\n",
       "      <th>...</th>\n",
       "      <td>...</td>\n",
       "      <td>...</td>\n",
       "      <td>...</td>\n",
       "      <td>...</td>\n",
       "      <td>...</td>\n",
       "      <td>...</td>\n",
       "      <td>...</td>\n",
       "    </tr>\n",
       "    <tr>\n",
       "      <th>388643</th>\n",
       "      <td>47004715</td>\n",
       "      <td>457</td>\n",
       "      <td>99996.cpp</td>\n",
       "      <td>25</td>\n",
       "      <td>warning</td>\n",
       "      <td>printf(\"%d\", total);               ^</td>\n",
       "      <td>Uninitialized variable</td>\n",
       "    </tr>\n",
       "    <tr>\n",
       "      <th>388644</th>\n",
       "      <td>47004715</td>\n",
       "      <td>457</td>\n",
       "      <td>99996.cpp</td>\n",
       "      <td>21</td>\n",
       "      <td>error</td>\n",
       "      <td>total++;      ^</td>\n",
       "      <td>Uninitialized variable</td>\n",
       "    </tr>\n",
       "    <tr>\n",
       "      <th>388645</th>\n",
       "      <td>34116859</td>\n",
       "      <td>0</td>\n",
       "      <td>99997.cpp</td>\n",
       "      <td></td>\n",
       "      <td></td>\n",
       "      <td></td>\n",
       "      <td></td>\n",
       "    </tr>\n",
       "    <tr>\n",
       "      <th>388646</th>\n",
       "      <td>55820831</td>\n",
       "      <td>0</td>\n",
       "      <td>99998.cpp</td>\n",
       "      <td></td>\n",
       "      <td></td>\n",
       "      <td></td>\n",
       "      <td></td>\n",
       "    </tr>\n",
       "    <tr>\n",
       "      <th>388647</th>\n",
       "      <td>40067420</td>\n",
       "      <td>0</td>\n",
       "      <td>99999.cpp</td>\n",
       "      <td></td>\n",
       "      <td></td>\n",
       "      <td></td>\n",
       "      <td></td>\n",
       "    </tr>\n",
       "  </tbody>\n",
       "</table>\n",
       "<p>388648 rows × 7 columns</p>\n",
       "</div>"
      ],
      "text/plain": [
       "         id_post  cwe       file line severity  \\\n",
       "0       30877241  398      0.cpp    3    style   \n",
       "1       40233070    0      1.cpp   27  warning   \n",
       "2       40233070    0      1.cpp   46  warning   \n",
       "3       20898874  398     10.cpp   11    style   \n",
       "4       29069387  758    100.cpp   60    error   \n",
       "...          ...  ...        ...  ...      ...   \n",
       "388643  47004715  457  99996.cpp   25  warning   \n",
       "388644  47004715  457  99996.cpp   21    error   \n",
       "388645  34116859    0  99997.cpp                 \n",
       "388646  55820831    0  99998.cpp                 \n",
       "388647  40067420    0  99999.cpp                 \n",
       "\n",
       "                                                     code  \\\n",
       "0                   struct dirent *dir;                 ^   \n",
       "1           char *buf = alloca(*bufsize + 128);       ...   \n",
       "2           char *claim_the_space = alloca(bufsize + 2...   \n",
       "3           data = (struct snail_thread *) ptr;       ...   \n",
       "4                        os<<input.display(&os);        ^   \n",
       "...                                                   ...   \n",
       "388643               printf(\"%d\", total);               ^   \n",
       "388644                                    total++;      ^   \n",
       "388645                                                      \n",
       "388646                                                      \n",
       "388647                                                      \n",
       "\n",
       "                                                  message  \n",
       "0         The scope of the variable 'dir' can be reduced.  \n",
       "1                      Obsolete function 'alloca' called.  \n",
       "2                      Obsolete function 'alloca' called.  \n",
       "3                                 C-style pointer casting  \n",
       "4       Found a exit path from function with non-void ...  \n",
       "...                                                   ...  \n",
       "388643                             Uninitialized variable  \n",
       "388644                             Uninitialized variable  \n",
       "388645                                                     \n",
       "388646                                                     \n",
       "388647                                                     \n",
       "\n",
       "[388648 rows x 7 columns]"
      ]
     },
     "execution_count": 8,
     "metadata": {},
     "output_type": "execute_result"
    }
   ],
   "source": [
    "posts"
   ]
  },
  {
   "cell_type": "code",
   "execution_count": 9,
   "metadata": {},
   "outputs": [],
   "source": [
    "posts_vulnerable = posts.loc[posts['severity']!='']"
   ]
  },
  {
   "cell_type": "code",
   "execution_count": 10,
   "metadata": {},
   "outputs": [
    {
     "data": {
      "text/html": [
       "<div>\n",
       "<style scoped>\n",
       "    .dataframe tbody tr th:only-of-type {\n",
       "        vertical-align: middle;\n",
       "    }\n",
       "\n",
       "    .dataframe tbody tr th {\n",
       "        vertical-align: top;\n",
       "    }\n",
       "\n",
       "    .dataframe thead th {\n",
       "        text-align: right;\n",
       "    }\n",
       "</style>\n",
       "<table border=\"1\" class=\"dataframe\">\n",
       "  <thead>\n",
       "    <tr style=\"text-align: right;\">\n",
       "      <th></th>\n",
       "      <th>id_post</th>\n",
       "      <th>cwe</th>\n",
       "      <th>file</th>\n",
       "      <th>line</th>\n",
       "      <th>severity</th>\n",
       "      <th>code</th>\n",
       "      <th>message</th>\n",
       "    </tr>\n",
       "  </thead>\n",
       "  <tbody>\n",
       "    <tr>\n",
       "      <th>0</th>\n",
       "      <td>30877241</td>\n",
       "      <td>398</td>\n",
       "      <td>0.cpp</td>\n",
       "      <td>3</td>\n",
       "      <td>style</td>\n",
       "      <td>struct dirent *dir;                 ^</td>\n",
       "      <td>The scope of the variable 'dir' can be reduced.</td>\n",
       "    </tr>\n",
       "    <tr>\n",
       "      <th>1</th>\n",
       "      <td>40233070</td>\n",
       "      <td>0</td>\n",
       "      <td>1.cpp</td>\n",
       "      <td>27</td>\n",
       "      <td>warning</td>\n",
       "      <td>char *buf = alloca(*bufsize + 128);       ...</td>\n",
       "      <td>Obsolete function 'alloca' called.</td>\n",
       "    </tr>\n",
       "    <tr>\n",
       "      <th>2</th>\n",
       "      <td>40233070</td>\n",
       "      <td>0</td>\n",
       "      <td>1.cpp</td>\n",
       "      <td>46</td>\n",
       "      <td>warning</td>\n",
       "      <td>char *claim_the_space = alloca(bufsize + 2...</td>\n",
       "      <td>Obsolete function 'alloca' called.</td>\n",
       "    </tr>\n",
       "    <tr>\n",
       "      <th>3</th>\n",
       "      <td>20898874</td>\n",
       "      <td>398</td>\n",
       "      <td>10.cpp</td>\n",
       "      <td>11</td>\n",
       "      <td>style</td>\n",
       "      <td>data = (struct snail_thread *) ptr;       ...</td>\n",
       "      <td>C-style pointer casting</td>\n",
       "    </tr>\n",
       "    <tr>\n",
       "      <th>4</th>\n",
       "      <td>29069387</td>\n",
       "      <td>758</td>\n",
       "      <td>100.cpp</td>\n",
       "      <td>60</td>\n",
       "      <td>error</td>\n",
       "      <td>os&lt;&lt;input.display(&amp;os);        ^</td>\n",
       "      <td>Found a exit path from function with non-void ...</td>\n",
       "    </tr>\n",
       "    <tr>\n",
       "      <th>...</th>\n",
       "      <td>...</td>\n",
       "      <td>...</td>\n",
       "      <td>...</td>\n",
       "      <td>...</td>\n",
       "      <td>...</td>\n",
       "      <td>...</td>\n",
       "      <td>...</td>\n",
       "    </tr>\n",
       "    <tr>\n",
       "      <th>388639</th>\n",
       "      <td>59436318</td>\n",
       "      <td>563</td>\n",
       "      <td>99994.cpp</td>\n",
       "      <td>4</td>\n",
       "      <td>style</td>\n",
       "      <td>int i = 0, j = 0;                 ^</td>\n",
       "      <td>Variable 'j' is assigned a value that is never...</td>\n",
       "    </tr>\n",
       "    <tr>\n",
       "      <th>388641</th>\n",
       "      <td>47004715</td>\n",
       "      <td>398</td>\n",
       "      <td>99996.cpp</td>\n",
       "      <td>4</td>\n",
       "      <td>style</td>\n",
       "      <td>int a, b, sum, c, i, total, d;          ^</td>\n",
       "      <td>The scope of the variable 'sum' can be reduced.</td>\n",
       "    </tr>\n",
       "    <tr>\n",
       "      <th>388642</th>\n",
       "      <td>47004715</td>\n",
       "      <td>398</td>\n",
       "      <td>99996.cpp</td>\n",
       "      <td>4</td>\n",
       "      <td>style</td>\n",
       "      <td>int a, b, sum, c, i, total, d;               ^</td>\n",
       "      <td>The scope of the variable 'c' can be reduced.</td>\n",
       "    </tr>\n",
       "    <tr>\n",
       "      <th>388643</th>\n",
       "      <td>47004715</td>\n",
       "      <td>457</td>\n",
       "      <td>99996.cpp</td>\n",
       "      <td>25</td>\n",
       "      <td>warning</td>\n",
       "      <td>printf(\"%d\", total);               ^</td>\n",
       "      <td>Uninitialized variable</td>\n",
       "    </tr>\n",
       "    <tr>\n",
       "      <th>388644</th>\n",
       "      <td>47004715</td>\n",
       "      <td>457</td>\n",
       "      <td>99996.cpp</td>\n",
       "      <td>21</td>\n",
       "      <td>error</td>\n",
       "      <td>total++;      ^</td>\n",
       "      <td>Uninitialized variable</td>\n",
       "    </tr>\n",
       "  </tbody>\n",
       "</table>\n",
       "<p>297309 rows × 7 columns</p>\n",
       "</div>"
      ],
      "text/plain": [
       "         id_post  cwe       file line severity  \\\n",
       "0       30877241  398      0.cpp    3    style   \n",
       "1       40233070    0      1.cpp   27  warning   \n",
       "2       40233070    0      1.cpp   46  warning   \n",
       "3       20898874  398     10.cpp   11    style   \n",
       "4       29069387  758    100.cpp   60    error   \n",
       "...          ...  ...        ...  ...      ...   \n",
       "388639  59436318  563  99994.cpp    4    style   \n",
       "388641  47004715  398  99996.cpp    4    style   \n",
       "388642  47004715  398  99996.cpp    4    style   \n",
       "388643  47004715  457  99996.cpp   25  warning   \n",
       "388644  47004715  457  99996.cpp   21    error   \n",
       "\n",
       "                                                     code  \\\n",
       "0                   struct dirent *dir;                 ^   \n",
       "1           char *buf = alloca(*bufsize + 128);       ...   \n",
       "2           char *claim_the_space = alloca(bufsize + 2...   \n",
       "3           data = (struct snail_thread *) ptr;       ...   \n",
       "4                        os<<input.display(&os);        ^   \n",
       "...                                                   ...   \n",
       "388639                int i = 0, j = 0;                 ^   \n",
       "388641          int a, b, sum, c, i, total, d;          ^   \n",
       "388642     int a, b, sum, c, i, total, d;               ^   \n",
       "388643               printf(\"%d\", total);               ^   \n",
       "388644                                    total++;      ^   \n",
       "\n",
       "                                                  message  \n",
       "0         The scope of the variable 'dir' can be reduced.  \n",
       "1                      Obsolete function 'alloca' called.  \n",
       "2                      Obsolete function 'alloca' called.  \n",
       "3                                 C-style pointer casting  \n",
       "4       Found a exit path from function with non-void ...  \n",
       "...                                                   ...  \n",
       "388639  Variable 'j' is assigned a value that is never...  \n",
       "388641    The scope of the variable 'sum' can be reduced.  \n",
       "388642      The scope of the variable 'c' can be reduced.  \n",
       "388643                             Uninitialized variable  \n",
       "388644                             Uninitialized variable  \n",
       "\n",
       "[297309 rows x 7 columns]"
      ]
     },
     "execution_count": 10,
     "metadata": {},
     "output_type": "execute_result"
    }
   ],
   "source": [
    "posts_vulnerable"
   ]
  },
  {
   "cell_type": "markdown",
   "metadata": {},
   "source": [
    "## Get repositories using vulnerable code snippets"
   ]
  },
  {
   "cell_type": "code",
   "execution_count": 11,
   "metadata": {},
   "outputs": [],
   "source": [
    "repositories_final_query = ', '.join(f'\"{w}\"' for w in repositories_final['name'])"
   ]
  },
  {
   "cell_type": "code",
   "execution_count": 12,
   "metadata": {},
   "outputs": [
    {
     "data": {
      "text/plain": [
       "'\"google/brotli\", \"gentilkiwi/mimikatz\", \"octalmage/robotjs\", \"openresty/openresty\", \"jedisct1/libsodium\", \"spacehuhntech/esp8266_deauther\", \"haiwen/seafile\", \"tmux/tmux\", \"pbatard/rufus\", \"robertdavidgraham/masscan\", \"koekeishiya/yabai\", \"iovisor/bcc\", \"jarun/nnn\", \"swaywm/sway\", \"cloudwu/skynet\", \"genymobile/scrcpy\", \"jonas/tig\", \"hashcat/hashcat\", \"ventoy/ventoy\", \"mpv-player/mpv\", \"facebook/zstd\", \"h2o/h2o\", \"ish-app/ish\", \"acidanthera/opencorepkg\", \"lvgl/lvgl\", \"radareorg/radare2\", \"micropython/micropython\", \"timescale/timescaledb\", \"handbrake/handbrake\", \"netdata/netdata\", \"ffmpeg/ffmpeg\", \"taosdata/tdengine\", \"raysan5/raylib\", \"redis/redis\", \"obsproject/obs-studio\", \"curl/curl\", \"arendst/tasmota\", \"foundry376/mailspring\", \"nvidia/open-gpu-kernel-modules\", \"google/tink\", \"lottie-react-native/lottie-react-native\", \"tencent/matrix\", \"topjohnwu/magisk\", \"microsoft/cntk\", \"zhongyang219/trafficmonitor\", \"trojan-gfw/trojan\", \"bvlc/caffe\", \"apple/turicreate\", \"kyleneideck/backgroundmusic\", \"spotify/annoy\", \"rethinkdb/rethinkdb\", \"aria2/aria2\", \"typesense/typesense\", \"chenshuo/muduo\", \"google/mediapipe\", \"wkhtmltopdf/wkhtmltopdf\", \"dogecoin/dogecoin\", \"mobile-shell/mosh\", \"cmderdev/cmder\", \"tencent/mmkv\", \"gabime/spdlog\", \"google/leveldb\", \"mozilla/deepspeech\", \"facebook/yoga\", \"catchorg/catch2\", \"esp8266/arduino\", \"unetworking/uwebsockets\", \"facebookresearch/faiss\", \"google/libphonenumber\", \"microsoft/winget-cli\", \"qv2ray/qv2ray\", \"uglide/redisdesktopmanager\", \"abseil/abseil-cpp\", \"werwolv/imhex\", \"ocornut/imgui\", \"dmlc/xgboost\", \"google/flatbuffers\", \"sqlitebrowser/sqlitebrowser\", \"valvesoftware/proton\", \"aseprite/aseprite\", \"microsoft/airsim\", \"electron/electron\", \"bitcoin/bitcoin\", \"tesseract-ocr/tesseract\", \"nlohmann/json\", \"apolloauto/apollo\", \"telegramdesktop/tdesktop\", \"ossrs/srs\", \"ethereum/solidity\", \"polybar/polybar\", \"flameshot-org/flameshot\", \"tensorflow/tensorflow\", \"protocolbuffers/protobuf\", \"grpc/grpc\", \"cmu-perceptual-computing-lab/openpose\", \"apache/incubator-mxnet\", \"osquery/osquery\", \"facebook/hhvm\", \"swoole/swoole-src\", \"facebook/folly\", \"microsoft/react-native-windows\", \"simdjson/simdjson\", \"pqrs-org/karabiner-elements\", \"microsoft/lightgbm\", \"xbmc/xbmc\", \"microsoft/vcpkg\", \"eosio/eos\", \"tencent/ncnn\", \"google/filament\", \"apple/foundationdb\", \"facebook/watchman\", \"marlinfirmware/marlin\", \"keepassxreboot/keepassxc\", \"rizinorg/cutter\", \"rpcs3/rpcs3\", \"freecad/freecad\", \"pybind/pybind11\", \"paddlepaddle/paddle\", \"microsoft/terminal\", \"opencv/opencv\", \"facebook/rocksdb\", \"envoyproxy/envoy\", \"taichi-dev/taichi\", \"fmtlib/fmt\", \"davisking/dlib\", \"openrct2/openrct2\", \"godotengine/godot\", \"clickhouse/clickhouse\", \"notepad-plus-plus/notepad-plus-plus\", \"apple/swift\", \"pytorch/pytorch\", \"onnx/onnx\", \"fish-shell/fish-shell\"'"
      ]
     },
     "execution_count": 12,
     "metadata": {},
     "output_type": "execute_result"
    }
   ],
   "source": [
    "repositories_final_query"
   ]
  },
  {
   "cell_type": "code",
   "execution_count": 13,
   "metadata": {},
   "outputs": [
    {
     "name": "stdout",
     "output_type": "stream",
     "text": [
      "116578\n"
     ]
    }
   ],
   "source": [
    "ids = pd.unique(posts_vulnerable['id_post'])\n",
    "print(len(ids))\n",
    "chunks = list(chunks(ids, 1000))"
   ]
  },
  {
   "cell_type": "code",
   "execution_count": 14,
   "metadata": {},
   "outputs": [],
   "source": [
    "chunk_strings = []\n",
    "\n",
    "for index in range(len(chunks)):\n",
    "    chunk_strings.append(','.join(map(str, chunks[index])))"
   ]
  },
  {
   "cell_type": "code",
   "execution_count": 15,
   "metadata": {},
   "outputs": [
    {
     "data": {
      "text/plain": [
       "117"
      ]
     },
     "execution_count": 15,
     "metadata": {},
     "output_type": "execute_result"
    }
   ],
   "source": [
    "len(chunk_strings)"
   ]
  },
  {
   "cell_type": "code",
   "execution_count": 3,
   "metadata": {},
   "outputs": [],
   "source": [
    "sotorrent = bq_helper.BigQueryHelper(\"sotorrent-org\", \"2020_12_31\")"
   ]
  },
  {
   "cell_type": "code",
   "execution_count": null,
   "metadata": {},
   "outputs": [],
   "source": [
    "results_found = []\n",
    "\n",
    "for chunk_string in tqdm(chunk_strings):\n",
    "    query = 'SELECT reference.Repo,reference.branch, reference.Path, reference.PostId, reference.SOUrl, reference.GHUrl FROM sotorrent-org.2020_12_31.PostReferenceGH reference WHERE reference.PostId IN ('+chunk_string+') and reference.Repo IN ('+repositories_final_query+')'\n",
    "    result = sotorrent.query_to_pandas_safe(query, max_gb_scanned = 70)\n",
    "\n",
    "    if not len(result)==0:\n",
    "        print(\"Found \"+str(len(result))+\" data\")\n",
    "        results_found.append(result)"
   ]
  },
  {
   "cell_type": "code",
   "execution_count": 27,
   "metadata": {},
   "outputs": [
    {
     "data": {
      "text/plain": [
       "2"
      ]
     },
     "execution_count": 27,
     "metadata": {},
     "output_type": "execute_result"
    }
   ],
   "source": [
    "len(results_found)"
   ]
  },
  {
   "cell_type": "code",
   "execution_count": 23,
   "metadata": {},
   "outputs": [
    {
     "data": {
      "text/html": [
       "<div>\n",
       "<style scoped>\n",
       "    .dataframe tbody tr th:only-of-type {\n",
       "        vertical-align: middle;\n",
       "    }\n",
       "\n",
       "    .dataframe tbody tr th {\n",
       "        vertical-align: top;\n",
       "    }\n",
       "\n",
       "    .dataframe thead th {\n",
       "        text-align: right;\n",
       "    }\n",
       "</style>\n",
       "<table border=\"1\" class=\"dataframe\">\n",
       "  <thead>\n",
       "    <tr style=\"text-align: right;\">\n",
       "      <th></th>\n",
       "      <th>Repo</th>\n",
       "      <th>branch</th>\n",
       "      <th>Path</th>\n",
       "      <th>PostId</th>\n",
       "      <th>SOUrl</th>\n",
       "      <th>GHUrl</th>\n",
       "    </tr>\n",
       "  </thead>\n",
       "  <tbody>\n",
       "    <tr>\n",
       "      <th>0</th>\n",
       "      <td>bitcoin/bitcoin</td>\n",
       "      <td>master</td>\n",
       "      <td>src/qt/guiutil.h</td>\n",
       "      <td>21646467</td>\n",
       "      <td>https://stackoverflow.com/q/21646467</td>\n",
       "      <td>https://raw.githubusercontent.com/bitcoin/bitc...</td>\n",
       "    </tr>\n",
       "  </tbody>\n",
       "</table>\n",
       "</div>"
      ],
      "text/plain": [
       "              Repo  branch              Path    PostId  \\\n",
       "0  bitcoin/bitcoin  master  src/qt/guiutil.h  21646467   \n",
       "\n",
       "                                  SOUrl  \\\n",
       "0  https://stackoverflow.com/q/21646467   \n",
       "\n",
       "                                               GHUrl  \n",
       "0  https://raw.githubusercontent.com/bitcoin/bitc...  "
      ]
     },
     "execution_count": 23,
     "metadata": {},
     "output_type": "execute_result"
    }
   ],
   "source": [
    "results_found[0]"
   ]
  },
  {
   "cell_type": "code",
   "execution_count": 25,
   "metadata": {},
   "outputs": [
    {
     "data": {
      "text/html": [
       "<div>\n",
       "<style scoped>\n",
       "    .dataframe tbody tr th:only-of-type {\n",
       "        vertical-align: middle;\n",
       "    }\n",
       "\n",
       "    .dataframe tbody tr th {\n",
       "        vertical-align: top;\n",
       "    }\n",
       "\n",
       "    .dataframe thead th {\n",
       "        text-align: right;\n",
       "    }\n",
       "</style>\n",
       "<table border=\"1\" class=\"dataframe\">\n",
       "  <thead>\n",
       "    <tr style=\"text-align: right;\">\n",
       "      <th></th>\n",
       "      <th>Repo</th>\n",
       "      <th>branch</th>\n",
       "      <th>Path</th>\n",
       "      <th>PostId</th>\n",
       "      <th>SOUrl</th>\n",
       "      <th>GHUrl</th>\n",
       "    </tr>\n",
       "  </thead>\n",
       "  <tbody>\n",
       "    <tr>\n",
       "      <th>0</th>\n",
       "      <td>tensorflow/tensorflow</td>\n",
       "      <td>master</td>\n",
       "      <td>tensorflow/core/framework/variant_op_registry.h</td>\n",
       "      <td>44475317</td>\n",
       "      <td>https://stackoverflow.com/q/44475317</td>\n",
       "      <td>https://raw.githubusercontent.com/tensorflow/t...</td>\n",
       "    </tr>\n",
       "  </tbody>\n",
       "</table>\n",
       "</div>"
      ],
      "text/plain": [
       "                    Repo  branch  \\\n",
       "0  tensorflow/tensorflow  master   \n",
       "\n",
       "                                              Path    PostId  \\\n",
       "0  tensorflow/core/framework/variant_op_registry.h  44475317   \n",
       "\n",
       "                                  SOUrl  \\\n",
       "0  https://stackoverflow.com/q/44475317   \n",
       "\n",
       "                                               GHUrl  \n",
       "0  https://raw.githubusercontent.com/tensorflow/t...  "
      ]
     },
     "execution_count": 25,
     "metadata": {},
     "output_type": "execute_result"
    }
   ],
   "source": [
    "results_found[1]"
   ]
  },
  {
   "cell_type": "code",
   "execution_count": null,
   "metadata": {},
   "outputs": [],
   "source": []
  }
 ],
 "metadata": {
  "kernelspec": {
   "display_name": "Python 3 (ipykernel)",
   "language": "python",
   "name": "python3"
  },
  "language_info": {
   "codemirror_mode": {
    "name": "ipython",
    "version": 3
   },
   "file_extension": ".py",
   "mimetype": "text/x-python",
   "name": "python",
   "nbconvert_exporter": "python",
   "pygments_lexer": "ipython3",
   "version": "3.7.6"
  }
 },
 "nbformat": 4,
 "nbformat_minor": 4
}
