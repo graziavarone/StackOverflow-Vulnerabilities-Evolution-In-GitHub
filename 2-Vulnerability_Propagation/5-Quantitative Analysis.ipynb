{
 "cells": [
  {
   "cell_type": "code",
   "execution_count": 1,
   "metadata": {},
   "outputs": [],
   "source": [
    "import os\n",
    "import pandas as pd\n",
    "import git\n",
    "from datetime import datetime\n",
    "import subprocess\n",
    "from os import getcwd\n",
    "from os import chdir"
   ]
  },
  {
   "cell_type": "code",
   "execution_count": 2,
   "metadata": {},
   "outputs": [],
   "source": [
    "#idx = 0\n",
    "dfMetrics = pd.DataFrame()\n",
    "ROOT_PATH = getcwd()"
   ]
  },
  {
   "cell_type": "code",
   "execution_count": 3,
   "metadata": {},
   "outputs": [],
   "source": [
    "def getTotalCommits(folder, file_name, start, end):\n",
    "    chdir(os.path.join(ROOT_PATH, folder))\n",
    "    print(getcwd())\n",
    "    #print(file_name)\n",
    "    proc = subprocess.run([\"git\", \n",
    "                           \"log\",\n",
    "                           '--pretty=format:%H',\n",
    "                           \"--follow\",\n",
    "                           \"--\",\n",
    "                           file_name], \n",
    "                          capture_output=True) \n",
    "\n",
    "\n",
    "    commits = proc.stdout.decode('utf-8').split('\\n')\n",
    "    commits.reverse()\n",
    "        \n",
    "    #print(commits)\n",
    "\n",
    "    start_index = commits.index(start)\n",
    "    end_index = commits.index(end)\n",
    "\n",
    "    return end_index-start_index"
   ]
  },
  {
   "cell_type": "code",
   "execution_count": 4,
   "metadata": {},
   "outputs": [
    {
     "data": {
      "text/plain": [
       "'C:\\\\Users\\\\Grazia\\\\Desktop\\\\Tesi\\\\StackOverflow_Vulnerabilities\\\\2-Vulnerability_Propagation'"
      ]
     },
     "execution_count": 4,
     "metadata": {},
     "output_type": "execute_result"
    }
   ],
   "source": [
    "getcwd()"
   ]
  },
  {
   "cell_type": "code",
   "execution_count": 60,
   "metadata": {},
   "outputs": [],
   "source": [
    "def getSnippetMetrics(i, histories, folder):\n",
    "    #global idx\n",
    "    list_dicts = []\n",
    "    history = pd.read_csv(os.path.join(folder, histories[i]))\n",
    "    history = history.fillna('')\n",
    "    repo_name = history['repo'][0]\n",
    "    print(\"Analyze repository \"+repo_name)\n",
    "    print()\n",
    "    files_to_analyze = pd.unique(history['file'])\n",
    "    folder_rep = repo_name.split('/')[-1]\n",
    "    repo = git.Repo.clone_from('https://github.com/'+repo_name+'.git', folder_rep)\n",
    "    index_row_vulnerable = None\n",
    "    \n",
    "    for file_name in files_to_analyze:\n",
    "        print(\"Analyze history for \"+file_name)\n",
    "        history_file = history.loc[history['file']==file_name]\n",
    "        \n",
    "        for _, row in history_file.iterrows():\n",
    "            if repo_name in ('bitcoin/bitcoin', 'tensorflow/tensorflow'):\n",
    "                if not row['code_context'] == '':\n",
    "                    if not index_row_vulnerable:\n",
    "                        index_row_vulnerable = _\n",
    "                    print(\"Code context modified on date \"+ str(row['commit_date'])+ \" with a reference to vulnerable Stack Overflow post\")\n",
    "                    print()\n",
    "\n",
    "                if index_row_vulnerable and index_row_vulnerable >= 0:\n",
    "                    if row['code_context'] == '' and _ > index_row_vulnerable:\n",
    "                        print(\"The reference to vulnerable Stack Overflow post has been removed on date \"+ str(row['commit_date']))\n",
    "                        print()\n",
    "                        time_1 = datetime.strptime(history_file['commit_date'][index_row_vulnerable].split(' ')[0],\n",
    "                                                   \"%Y-%m-%d\")\n",
    "                        time_2 = datetime.strptime(row['commit_date'].split(' ')[0],\"%Y-%m-%d\")\n",
    "\n",
    "                        time_interval = time_2 - time_1\n",
    "                        #print(\"Time interval \")\n",
    "                        #print(time_interval)\n",
    "                        print()\n",
    "                        list_dicts.append({#'id': idx, \n",
    "                                           'repository': repo_name, 'file': file_name,\n",
    "                                           'start_date': history_file['commit_date'][index_row_vulnerable], \n",
    "                                          'end_date': row['commit_date'], 'removed_after': str(time_interval),\n",
    "                                          'total_commits': getTotalCommits(repo_name.split('/')[-1], file_name, history_file['origin_commit'][index_row_vulnerable], row['origin_commit']),\n",
    "                                            'commits_on_snippets': _-index_row_vulnerable})\n",
    "                        print(list_dicts)\n",
    "                        #idx = idx + 1\n",
    "                        index_row_vulnerable = None\n",
    "            else:\n",
    "                if not row['code_vuln'] == '':\n",
    "                    if not index_row_vulnerable:\n",
    "                        index_row_vulnerable = _ \n",
    "                    print(\"Code context modified on date \"+ str(row['commit_date'])+ \" with this vulnerable line \"+ str(row['code_vuln']))\n",
    "                    print()\n",
    "\n",
    "                if index_row_vulnerable and index_row_vulnerable >= 0:\n",
    "                    if row['code_vuln'] == '' and _ > index_row_vulnerable:\n",
    "                        print(\"The vulnerability has been removed on date \"+ str(row['commit_date']))\n",
    "                        time_1 = datetime.strptime(history_file['commit_date'][index_row_vulnerable].split(' ')[0],\n",
    "                                                   \"%Y-%m-%d\")\n",
    "                        time_2 = datetime.strptime(row['commit_date'].split(' ')[0],\"%Y-%m-%d\")\n",
    "\n",
    "                        time_interval = time_2 - time_1\n",
    "                        #print(\"Time interval \")\n",
    "                        #print(time_interval)\n",
    "                        print()\n",
    "                        list_dicts.append({#'id': idx, \n",
    "                                           'repository': repo_name, 'file': file_name,\n",
    "                                           'start_date': history_file['commit_date'][index_row_vulnerable], \n",
    "                                          'end_date': row['commit_date'], 'removed_after': str(time_interval),\n",
    "                                          'total_commits': getTotalCommits(repo_name.split('/')[-1], file_name, history_file['origin_commit'][index_row_vulnerable], row['origin_commit']),\n",
    "                                            'commits_on_snippets': _-index_row_vulnerable})\n",
    "                        print(list_dicts)\n",
    "                        #idx = idx + 1\n",
    "                        index_row_vulnerable = None\n",
    "                        \n",
    "\n",
    "    os.system('rmdir /S /Q \"{}\"'.format(folder_rep))\n",
    "    return list_dicts"
   ]
  },
  {
   "cell_type": "markdown",
   "metadata": {},
   "source": [
    "# C"
   ]
  },
  {
   "cell_type": "code",
   "execution_count": 6,
   "metadata": {},
   "outputs": [
    {
     "data": {
      "text/plain": [
       "2"
      ]
     },
     "execution_count": 6,
     "metadata": {},
     "output_type": "execute_result"
    }
   ],
   "source": [
    "chdir(ROOT_PATH)\n",
    "folder = 'GHCodeSnippetHistory_C' \n",
    "c_histories = os.listdir(folder)\n",
    "len(c_histories)"
   ]
  },
  {
   "cell_type": "code",
   "execution_count": 7,
   "metadata": {
    "scrolled": false
   },
   "outputs": [
    {
     "name": "stdout",
     "output_type": "stream",
     "text": [
      "Analyze repository lvgl/lvgl\n",
      "\n",
      "Analyze history for src/lv_misc/lv_mem.c\n",
      "Code context modified on date 2018-07-25 06:52:59 +0200 with this vulnerable line static inline  void lv_mem_assert(void *p)\n",
      "\n",
      "The vulnerability has been removed on date 2018-10-05 17:22:49 +0200\n",
      "\n",
      "C:\\Users\\Grazia\\Desktop\\Tesi\\StackOverflow_Vulnerabilities\\2-Vulnerability_Propagation\\lvgl\n",
      "[{'repository': 'lvgl/lvgl', 'file': 'src/lv_misc/lv_mem.c', 'start_date': '2018-07-25 06:52:59 +0200', 'end_date': '2018-10-05 17:22:49 +0200', 'removed_after': '72 days, 0:00:00', 'total_commits': 7, 'commits_on_snippets': 1}]\n",
      "Code context modified on date 2020-05-13 14:11:16 +0200 with this vulnerable line static LV_MEM_ATTR MEM_UNIT work_mem_int[LV_MEM_SIZE / sizeof(MEM_UNIT)];\n",
      "\n",
      "Code context modified on date 2020-06-08 20:22:06 +0100 with this vulnerable line static LV_MEM_ATTR MEM_UNIT work_mem_int[LV_MEM_SIZE / sizeof(MEM_UNIT)];\n",
      "\n",
      "Code context modified on date 2020-06-15 17:12:48 +0300 with this vulnerable line static LV_MEM_ATTR MEM_UNIT work_mem_int[LV_MEM_SIZE / sizeof(MEM_UNIT)];\n",
      "\n",
      "Code context modified on date 2020-06-18 06:40:39 -0400 with this vulnerable line static LV_MEM_ATTR MEM_UNIT work_mem_int[LV_MEM_SIZE / sizeof(MEM_UNIT)];\n",
      "\n",
      "Code context modified on date 2020-07-07 09:36:59 +0200 with this vulnerable line static LV_MEM_ATTR MEM_UNIT work_mem_int[LV_MEM_SIZE / sizeof(MEM_UNIT)];\n",
      "\n",
      "Code context modified on date 2020-08-31 09:33:44 +0200 with this vulnerable line static LV_MEM_ATTR MEM_UNIT work_mem_int[LV_MEM_SIZE / sizeof(MEM_UNIT)];\n",
      "\n",
      "Code context modified on date 2020-11-25 12:21:22 -0500 with this vulnerable line static LV_MEM_ATTR MEM_UNIT work_mem_int[LV_MEM_SIZE / sizeof(MEM_UNIT)];\n",
      "\n",
      "Code context modified on date 2020-12-11 18:04:23 +0100 with this vulnerable line static LV_MEM_ATTR MEM_UNIT work_mem_int[LV_MEM_SIZE / sizeof(MEM_UNIT)];\n",
      "\n",
      "Code context modified on date 2021-01-11 14:28:00 +0100 with this vulnerable line static LV_MEM_ATTR MEM_UNIT work_mem_int[LV_MEM_SIZE / sizeof(MEM_UNIT)];\n",
      "\n",
      "Code context modified on date 2021-01-12 19:26:26 +0100 with this vulnerable line static LV_MEM_ATTR MEM_UNIT work_mem_int[LV_MEM_SIZE / sizeof(MEM_UNIT)];\n",
      "\n",
      "Code context modified on date 2021-01-21 15:18:20 +0100 with this vulnerable line static LV_MEM_ATTR MEM_UNIT work_mem_int[LV_MEM_SIZE / sizeof(MEM_UNIT)];\n",
      "\n",
      "Code context modified on date 2021-01-23 20:46:42 +0100 with this vulnerable line static LV_MEM_ATTR MEM_UNIT work_mem_int[LV_MEM_SIZE / sizeof(MEM_UNIT)];\n",
      "\n",
      "Code context modified on date 2021-01-26 14:12:35 +0100 with this vulnerable line static LV_MEM_ATTR MEM_UNIT work_mem_int[LV_MEM_SIZE / sizeof(MEM_UNIT)];\n",
      "\n",
      "Code context modified on date 2021-02-04 14:46:11 +0100 with this vulnerable line static LV_ATTRIBUTE_LARGE_RAM_ARRAY MEM_UNIT work_mem_int[LV_MEM_SIZE / sizeof(MEM_UNIT)];\n",
      "\n",
      "Code context modified on date 2021-02-19 13:56:59 +0100 with this vulnerable line static LV_MEM_ATTR MEM_UNIT work_mem_int[LV_MEM_SIZE / sizeof(MEM_UNIT)];\n",
      "\n",
      "Code context modified on date 2021-02-24 10:07:54 +0100 with this vulnerable line static LV_ATTRIBUTE_LARGE_RAM_ARRAY MEM_UNIT work_mem_int[LV_MEM_SIZE / sizeof(MEM_UNIT)];\n",
      "\n",
      "The vulnerability has been removed on date 2021-03-10 15:13:35 +0100\n",
      "\n",
      "C:\\Users\\Grazia\\Desktop\\Tesi\\StackOverflow_Vulnerabilities\\2-Vulnerability_Propagation\\lvgl\n",
      "[{'repository': 'lvgl/lvgl', 'file': 'src/lv_misc/lv_mem.c', 'start_date': '2018-07-25 06:52:59 +0200', 'end_date': '2018-10-05 17:22:49 +0200', 'removed_after': '72 days, 0:00:00', 'total_commits': 7, 'commits_on_snippets': 1}, {'repository': 'lvgl/lvgl', 'file': 'src/lv_misc/lv_mem.c', 'start_date': '2020-05-13 14:11:16 +0200', 'end_date': '2021-03-10 15:13:35 +0100', 'removed_after': '301 days, 0:00:00', 'total_commits': 47, 'commits_on_snippets': 16}]\n",
      "Analyze repository xbmc/xbmc\n",
      "\n",
      "Analyze history for lib/nosefart/src/memguard.c\n",
      "Code context modified on date 2009-09-23 01:49:50 +0000 with this vulnerable line int i;\n",
      "\n"
     ]
    }
   ],
   "source": [
    "for i in range(len(c_histories)):\n",
    "    list_dicts = getSnippetMetrics(i, c_histories, folder)\n",
    "    dfMetrics = dfMetrics.append(list_dicts)\n",
    "    chdir(ROOT_PATH)"
   ]
  },
  {
   "cell_type": "markdown",
   "metadata": {},
   "source": [
    "# C++"
   ]
  },
  {
   "cell_type": "code",
   "execution_count": 13,
   "metadata": {},
   "outputs": [
    {
     "data": {
      "text/plain": [
       "16"
      ]
     },
     "execution_count": 13,
     "metadata": {},
     "output_type": "execute_result"
    }
   ],
   "source": [
    "chdir(ROOT_PATH)\n",
    "folder = 'GHCodeSnippetHistory_CPP' \n",
    "cpp_histories = os.listdir(folder)\n",
    "len(cpp_histories)"
   ]
  },
  {
   "cell_type": "code",
   "execution_count": null,
   "metadata": {},
   "outputs": [],
   "source": [
    "for i in range(len(cpp_histories)):\n",
    "    list_dicts = getSnippetMetrics(i, cpp_histories, folder)\n",
    "    dfMetrics = dfMetrics.append(list_dicts)\n",
    "    chdir(ROOT_PATH)"
   ]
  },
  {
   "cell_type": "code",
   "execution_count": 100,
   "metadata": {},
   "outputs": [
    {
     "data": {
      "text/html": [
       "<div>\n",
       "<style scoped>\n",
       "    .dataframe tbody tr th:only-of-type {\n",
       "        vertical-align: middle;\n",
       "    }\n",
       "\n",
       "    .dataframe tbody tr th {\n",
       "        vertical-align: top;\n",
       "    }\n",
       "\n",
       "    .dataframe thead th {\n",
       "        text-align: right;\n",
       "    }\n",
       "</style>\n",
       "<table border=\"1\" class=\"dataframe\">\n",
       "  <thead>\n",
       "    <tr style=\"text-align: right;\">\n",
       "      <th></th>\n",
       "      <th>repository</th>\n",
       "      <th>file</th>\n",
       "      <th>start_date</th>\n",
       "      <th>end_date</th>\n",
       "      <th>removed_after</th>\n",
       "      <th>total_commits</th>\n",
       "      <th>commits_on_snippets</th>\n",
       "    </tr>\n",
       "  </thead>\n",
       "  <tbody>\n",
       "    <tr>\n",
       "      <th>0</th>\n",
       "      <td>lvgl/lvgl</td>\n",
       "      <td>src/lv_misc/lv_mem.c</td>\n",
       "      <td>2018-07-25 06:52:59 +0200</td>\n",
       "      <td>2018-10-05 17:22:49 +0200</td>\n",
       "      <td>72 days, 0:00:00</td>\n",
       "      <td>7</td>\n",
       "      <td>1</td>\n",
       "    </tr>\n",
       "    <tr>\n",
       "      <th>1</th>\n",
       "      <td>lvgl/lvgl</td>\n",
       "      <td>src/lv_misc/lv_mem.c</td>\n",
       "      <td>2020-05-13 14:11:16 +0200</td>\n",
       "      <td>2021-03-10 15:13:35 +0100</td>\n",
       "      <td>301 days, 0:00:00</td>\n",
       "      <td>47</td>\n",
       "      <td>16</td>\n",
       "    </tr>\n",
       "    <tr>\n",
       "      <th>2</th>\n",
       "      <td>arendst/tasmota</td>\n",
       "      <td>lib\\Adafruit_SGP30-1.0.3\\Adafruit_SGP30.cpp</td>\n",
       "      <td>2018-03-31 16:26:00 +0200</td>\n",
       "      <td>2020-05-23 22:28:42 +0100</td>\n",
       "      <td>784 days, 0:00:00</td>\n",
       "      <td>3</td>\n",
       "      <td>1</td>\n",
       "    </tr>\n",
       "    <tr>\n",
       "      <th>3</th>\n",
       "      <td>spacehuhntech/esp8266_deauther</td>\n",
       "      <td>esp8266_deauther/Settings.cpp</td>\n",
       "      <td>2017-06-18 15:37:18 +0200</td>\n",
       "      <td>2019-05-14 09:02:37 +0200</td>\n",
       "      <td>695 days, 0:00:00</td>\n",
       "      <td>15</td>\n",
       "      <td>3</td>\n",
       "    </tr>\n",
       "    <tr>\n",
       "      <th>4</th>\n",
       "      <td>sqlitebrowser/sqlitebrowser</td>\n",
       "      <td>libs/qhexedit/src/commands.cpp</td>\n",
       "      <td>2013-03-16 23:36:36 +0100</td>\n",
       "      <td>2016-08-01 18:02:55 +0100</td>\n",
       "      <td>1234 days, 0:00:00</td>\n",
       "      <td>1</td>\n",
       "      <td>1</td>\n",
       "    </tr>\n",
       "    <tr>\n",
       "      <th>5</th>\n",
       "      <td>xbmc/xbmc</td>\n",
       "      <td>xbmc/utils/Splash.cpp</td>\n",
       "      <td>2009-09-23 01:49:50 +0000</td>\n",
       "      <td>2014-06-10 12:21:12 +0200</td>\n",
       "      <td>1721 days, 0:00:00</td>\n",
       "      <td>9</td>\n",
       "      <td>2</td>\n",
       "    </tr>\n",
       "    <tr>\n",
       "      <th>6</th>\n",
       "      <td>xbmc/xbmc</td>\n",
       "      <td>xbmc/cores/paplayer/AudioDecoder.cpp</td>\n",
       "      <td>2009-09-23 01:49:50 +0000</td>\n",
       "      <td>2013-04-05 10:32:54 +0200</td>\n",
       "      <td>1290 days, 0:00:00</td>\n",
       "      <td>20</td>\n",
       "      <td>2</td>\n",
       "    </tr>\n",
       "    <tr>\n",
       "      <th>7</th>\n",
       "      <td>xbmc/xbmc</td>\n",
       "      <td>xbmc/cores/paplayer/AudioDecoder.cpp</td>\n",
       "      <td>2016-03-06 15:51:59 +0100</td>\n",
       "      <td>2017-11-20 15:25:58 +0100</td>\n",
       "      <td>624 days, 0:00:00</td>\n",
       "      <td>7</td>\n",
       "      <td>1</td>\n",
       "    </tr>\n",
       "    <tr>\n",
       "      <th>8</th>\n",
       "      <td>bitcoin/bitcoin</td>\n",
       "      <td>src/qt/guiutil.h</td>\n",
       "      <td>2020-11-25 16:12:23 +0200</td>\n",
       "      <td>2022-04-16 19:18:54 +0200</td>\n",
       "      <td>507 days, 0:00:00</td>\n",
       "      <td>24</td>\n",
       "      <td>1</td>\n",
       "    </tr>\n",
       "    <tr>\n",
       "      <th>9</th>\n",
       "      <td>taosdata/tdengine</td>\n",
       "      <td>source/libs/parser/test/parInsertTest.cpp</td>\n",
       "      <td>2022-06-13 18:36:23 +0800</td>\n",
       "      <td>2022-08-15 14:45:59 +0800</td>\n",
       "      <td>63 days, 0:00:00</td>\n",
       "      <td>7</td>\n",
       "      <td>1</td>\n",
       "    </tr>\n",
       "  </tbody>\n",
       "</table>\n",
       "</div>"
      ],
      "text/plain": [
       "                       repository  \\\n",
       "0                       lvgl/lvgl   \n",
       "1                       lvgl/lvgl   \n",
       "2                 arendst/tasmota   \n",
       "3  spacehuhntech/esp8266_deauther   \n",
       "4     sqlitebrowser/sqlitebrowser   \n",
       "5                       xbmc/xbmc   \n",
       "6                       xbmc/xbmc   \n",
       "7                       xbmc/xbmc   \n",
       "8                 bitcoin/bitcoin   \n",
       "9               taosdata/tdengine   \n",
       "\n",
       "                                          file                 start_date  \\\n",
       "0                         src/lv_misc/lv_mem.c  2018-07-25 06:52:59 +0200   \n",
       "1                         src/lv_misc/lv_mem.c  2020-05-13 14:11:16 +0200   \n",
       "2  lib\\Adafruit_SGP30-1.0.3\\Adafruit_SGP30.cpp  2018-03-31 16:26:00 +0200   \n",
       "3                esp8266_deauther/Settings.cpp  2017-06-18 15:37:18 +0200   \n",
       "4               libs/qhexedit/src/commands.cpp  2013-03-16 23:36:36 +0100   \n",
       "5                        xbmc/utils/Splash.cpp  2009-09-23 01:49:50 +0000   \n",
       "6         xbmc/cores/paplayer/AudioDecoder.cpp  2009-09-23 01:49:50 +0000   \n",
       "7         xbmc/cores/paplayer/AudioDecoder.cpp  2016-03-06 15:51:59 +0100   \n",
       "8                             src/qt/guiutil.h  2020-11-25 16:12:23 +0200   \n",
       "9    source/libs/parser/test/parInsertTest.cpp  2022-06-13 18:36:23 +0800   \n",
       "\n",
       "                    end_date       removed_after  total_commits  \\\n",
       "0  2018-10-05 17:22:49 +0200    72 days, 0:00:00              7   \n",
       "1  2021-03-10 15:13:35 +0100   301 days, 0:00:00             47   \n",
       "2  2020-05-23 22:28:42 +0100   784 days, 0:00:00              3   \n",
       "3  2019-05-14 09:02:37 +0200   695 days, 0:00:00             15   \n",
       "4  2016-08-01 18:02:55 +0100  1234 days, 0:00:00              1   \n",
       "5  2014-06-10 12:21:12 +0200  1721 days, 0:00:00              9   \n",
       "6  2013-04-05 10:32:54 +0200  1290 days, 0:00:00             20   \n",
       "7  2017-11-20 15:25:58 +0100   624 days, 0:00:00              7   \n",
       "8  2022-04-16 19:18:54 +0200   507 days, 0:00:00             24   \n",
       "9  2022-08-15 14:45:59 +0800    63 days, 0:00:00              7   \n",
       "\n",
       "   commits_on_snippets  \n",
       "0                    1  \n",
       "1                   16  \n",
       "2                    1  \n",
       "3                    3  \n",
       "4                    1  \n",
       "5                    2  \n",
       "6                    2  \n",
       "7                    1  \n",
       "8                    1  \n",
       "9                    1  "
      ]
     },
     "execution_count": 100,
     "metadata": {},
     "output_type": "execute_result"
    }
   ],
   "source": [
    "dfMetrics = dfMetrics.reset_index(drop=True)\n",
    "dfMetrics"
   ]
  },
  {
   "cell_type": "code",
   "execution_count": 101,
   "metadata": {},
   "outputs": [],
   "source": [
    "dfMetrics.to_csv('quantitative_analysis.csv', index=False)"
   ]
  }
 ],
 "metadata": {
  "kernelspec": {
   "display_name": "Python 3 (ipykernel)",
   "language": "python",
   "name": "python3"
  },
  "language_info": {
   "codemirror_mode": {
    "name": "ipython",
    "version": 3
   },
   "file_extension": ".py",
   "mimetype": "text/x-python",
   "name": "python",
   "nbconvert_exporter": "python",
   "pygments_lexer": "ipython3",
   "version": "3.7.6"
  }
 },
 "nbformat": 4,
 "nbformat_minor": 4
}
